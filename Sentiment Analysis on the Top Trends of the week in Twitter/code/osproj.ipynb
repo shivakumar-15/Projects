{
 "cells": [
  {
   "cell_type": "code",
   "execution_count": 4,
   "metadata": {
    "collapsed": false
   },
   "outputs": [],
   "source": [
    "from collections import Counter\n",
    "import ConfigParser\n",
    "import matplotlib.pyplot as plt\n",
    "import networkx as nx\n",
    "import sys\n",
    "import time\n",
    "from TwitterAPI import TwitterAPI\n",
    "from pprint import pprint\n",
    "import cPickle as pickle\n",
    "import ast\n",
    "import os\n",
    "import json\n",
    "from datetime import datetime, timedelta\n",
    "import ast\n",
    "import re\n",
    "import numpy as np\n",
    "import operator\n",
    "from sklearn.cross_validation import KFold\n",
    "from sklearn.feature_extraction.text import CountVectorizer\n",
    "from sklearn.linear_model import LogisticRegression\n",
    "from sklearn.metrics import accuracy_score\n",
    "\n",
    "from StringIO import StringIO\n",
    "from zipfile import ZipFile\n",
    "from urllib import urlopen\n",
    "#from nltk.tokenize import TweetTokenizer\n",
    "from nltk.tokenize import word_tokenize\n",
    "\n",
    "\n",
    "%matplotlib inline"
   ]
  },
  {
   "cell_type": "code",
   "execution_count": 5,
   "metadata": {
    "collapsed": false
   },
   "outputs": [
    {
     "name": "stdout",
     "output_type": "stream",
     "text": [
      "Established Twitter connection.\n"
     ]
    }
   ],
   "source": [
    "def get_twitter(config_file):\n",
    "    \"\"\" Read the config_file and construct an instance of TwitterAPI.\n",
    "    Args:\n",
    "      config_file ... A config file in ConfigParser format with Twitter credentials\n",
    "    Returns:\n",
    "      An instance of TwitterAPI.\n",
    "    \"\"\"\n",
    "    config = ConfigParser.ConfigParser()\n",
    "    config.read(config_file)\n",
    "    twitter = TwitterAPI(\n",
    "                   config.get('twitter', 'consumer_key'),\n",
    "                   config.get('twitter', 'consumer_secret'),\n",
    "                   config.get('twitter', 'access_token'),\n",
    "                   config.get('twitter', 'access_token_secret'))\n",
    "    return twitter\n",
    "\n",
    "twitter = get_twitter('twitter.cfg')\n",
    "print('Established Twitter connection.')\n",
    "ht={}\n",
    "\n",
    "def htcount():\n",
    "    for i,v in ht.items():\n",
    "        if v>1:\n",
    "            print i,v\n",
    "    print \"htcountdone\"\n",
    "    print len(ht)"
   ]
  },
  {
   "cell_type": "markdown",
   "metadata": {},
   "source": [
    "The htcount() function defined above is the one which checks whether the tweets collected are distinct by tweet id. This is called after the data collection."
   ]
  },
  {
   "cell_type": "code",
   "execution_count": 6,
   "metadata": {
    "collapsed": false
   },
   "outputs": [],
   "source": [
    "def robust_request(twitter, resource, params, max_tries=5):\n",
    "    \"\"\" If a Twitter request fails, sleep for 15 minutes.\n",
    "    Do this at most max_tries times before quitting.\n",
    "    Args:\n",
    "      twitter .... A TwitterAPI object.\n",
    "      resource ... A resource string to request.\n",
    "      params ..... A parameter dictionary for the request.\n",
    "      max_tries .. The maximum number of tries to attempt.\n",
    "    Returns:\n",
    "      A TwitterResponse object, or None if failed.\n",
    "    \"\"\"\n",
    "    for i in range(max_tries):\n",
    "        request = twitter.request(resource, params)\n",
    "        #print request\n",
    "        if request.status_code == 200:\n",
    "            return request\n",
    "        else:\n",
    "            print >> sys.stderr, 'Got error:', request.text, '\\nsleeping for 15 minutes.'\n",
    "            #print ht\n",
    "            htcount()\n",
    "            sys.stderr.flush()\n",
    "            print datetime.utcnow()\n",
    "            time.sleep(61 * 15)"
   ]
  },
  {
   "cell_type": "code",
   "execution_count": 5,
   "metadata": {
    "collapsed": false
   },
   "outputs": [
    {
     "name": "stdout",
     "output_type": "stream",
     "text": [
      "2015-11-30 05:40:04.812175\n",
      "2015-11-23 05:40:04.812807\n",
      "htcountdone"
     ]
    },
    {
     "name": "stderr",
     "output_type": "stream",
     "text": [
      "Got error: {\"errors\":[{\"message\":\"Rate limit exceeded\",\"code\":88}]} \n",
      "sleeping for 15 minutes.\n"
     ]
    },
    {
     "name": "stdout",
     "output_type": "stream",
     "text": [
      "\n",
      "18000\n",
      "2015-11-30 05:43:53.464424\n",
      "2015-11-23 05:40:01\n",
      "21421\n",
      "21421\n",
      "htcountdone\n",
      "21421\n"
     ]
    }
   ],
   "source": [
    "ht={}\n",
    "resource='search/tweets'\n",
    "sinceid=None\n",
    "params={'geocode':\"41.8500,-87.650,5mi\",'count':100,'max_id':sinceid}\n",
    "count=0\n",
    "tweet={}\n",
    "stime=datetime.utcnow()\n",
    "print stime\n",
    "etime=datetime.utcnow() - timedelta(days=7)\n",
    "print etime\n",
    "done=False\n",
    "fcnt=1\n",
    "def get_twitter_data():\n",
    "    while True:\n",
    "        result=robust_request(twitter,resource,params,5)\n",
    "        tweetdt=None\n",
    "        #pprint(res)\n",
    "        tweets=[]\n",
    "        fl=open(\"data\"+os.sep+str(fcnt), 'w+')\n",
    "        for res in result:\n",
    "            tweet={}\n",
    "            tid=res['id']\n",
    "            text=res['text']\n",
    "            dat=res['created_at']\n",
    "            vals=dat.split(\" \")\n",
    "            month=vals[1]\n",
    "            dtime=vals[1]+\" \"+vals[2]+\" \"+vals[5]+\" \"+vals[3]\n",
    "            tweetdt=datetime.strptime(dtime,\"%b %d %Y %H:%M:%S\")\n",
    "            entity=res['entities']\n",
    "            tags=[]\n",
    "            urls=[]\n",
    "            mentions=[]\n",
    "            for tag in entity['hashtags']:\n",
    "                tags.append(tag['text'])\n",
    "            for url in entity['urls']:\n",
    "                urls.append(url['url'])\n",
    "            for ment in entity['user_mentions']:\n",
    "                mentions.append(ment['screen_name'])\n",
    "            tweet['id']=tid\n",
    "            tweet['text']=text\n",
    "            tweet['hashtags']=tags\n",
    "            tweet['urls']=urls\n",
    "            tweet['mentions']=mentions\n",
    "            tweets.append(tweet)\n",
    "            if tweetdt<etime:\n",
    "                print tweetdt\n",
    "                done=True\n",
    "                break\n",
    "            if tid in ht.keys():\n",
    "                ht[tid]=ht[tid]+1\n",
    "            else:\n",
    "                ht[tid]=1\n",
    "            count+=1\n",
    "        #print count\n",
    "        fl.write(str(tweets))\n",
    "        fl.flush()\n",
    "        fl.close()\n",
    "        if done:\n",
    "                break\n",
    "        #sinceid=min(ht.keys(),key=int)\n",
    "        sinceid=sorted(ht.keys(),key=lambda x:x)[0]\n",
    "        params['max_id']=sinceid-1\n",
    "        fcnt+=1\n",
    "        #break\n",
    "        #print sinceid\n",
    "\n",
    "\n",
    "get_twitter_data()\n",
    "print count\n",
    "filecount=fcnt\n",
    "#pprint(ht)\n",
    "print len(ht)\n",
    "htcount()"
   ]
  },
  {
   "cell_type": "markdown",
   "metadata": {},
   "source": [
    "Here the Data of one week was collected and stored in file in order to reuse. There are a total of 215 files,each containing 100 tweets. The Rest api was used to retrieve the tweet by manipulating the Tweet id and date to get a distinct set of one week tweets."
   ]
  },
  {
   "cell_type": "code",
   "execution_count": 7,
   "metadata": {
    "collapsed": false
   },
   "outputs": [
    {
     "name": "stdout",
     "output_type": "stream",
     "text": [
      "read 2000\n",
      "2000\n",
      "215\n"
     ]
    }
   ],
   "source": [
    "filecount=215 #comment this line if you have already run the above method \n",
    "#or code since the value will be dynamically\n",
    "\n",
    "dassignedef readtweets(start,end):\n",
    "    myDicts=[]\n",
    "    #print start,end\n",
    "    for i in range(int(start),int(end)):\n",
    "        #print i\n",
    "        inputFile = open(\"data\"+os.sep+str(i), \"r\")\n",
    "        lines = inputFile.readlines()\n",
    "        objects = []\n",
    "        for line in lines:\n",
    "            #print line\n",
    "            objects.append( (line) )\n",
    "        myDict=eval(objects[0])\n",
    "        myDicts+=myDict\n",
    "    print \"read\",len(myDicts)\n",
    "    return myDicts\n",
    "\n",
    "myDicts=readtweets(1,21)\n",
    "print len(myDicts)\n",
    "print filecount"
   ]
  },
  {
   "cell_type": "markdown",
   "metadata": {},
   "source": [
    "This above method readtweets() is used to read the tweets from the files in the folder data/*. It reads the no of files mentioned in start,end to get the differnce*100 tweets to memory."
   ]
  },
  {
   "cell_type": "code",
   "execution_count": 5,
   "metadata": {
    "collapsed": false
   },
   "outputs": [
    {
     "name": "stdout",
     "output_type": "stream",
     "text": [
      "That's it now I got to sneak off to see #CREED this week!!!1\n",
      "This view was taken from the 103th floor of Willus Tower. Finally I managed to be here after a super… https://t.co/tggRUZ0hWH1\n",
      "I love you, Chicago ❤️ You're pretty and delicious and edgy and I'm so happy that I'm from the… https://t.co/jDz3NvsckT1\n",
      "can't wait to go back to lolla with you @ Lollapalooza https://t.co/OheEEZnJ9A1\n",
      "RT @am_in_america: #Chicago. Love this city ❤️🎉😍🙌🏽🍷🍷🍷🍷. View taken from a lovely little #yogi rooftop . Missing my #ytt… https://t.co/fnfb4…1\n",
      "haven't gone back since 👯 call me maybe? theee_bolg @ The Hampton Social https://t.co/KAP3m02sh60\n",
      "Interested in a #IT #job near #Chicago, IL? This could be a great fit: https://t.co/fTb0dZXRdZ #Hiring1\n",
      "Had to come out to support my bro! zo3hree5ive @ The Promontory https://t.co/FeNZ8EUfcB1\n",
      "@KBevPhoto Great to see you in line. Sorry we got separated. Enjoy the show and see you soon at Grown Folks.1\n",
      "39% of the Chicago's Trends for Saturday 28 were hashtags: https://t.co/FnmLH8MNnv #trndnl0\n",
      "Other on 3700 BLOCK OF W DOUGLAS BLVD, Chicago, IL (via https://t.co/5zY7AZauvp): Perp Search/Chase. CPD Units c... https://t.co/l5JSeHoX83-1\n",
      "Other on 3700 BLOCK OF W DOUGLAS BLVD, Chicago, IL (via https://t.co/ClB2sZWs13): Perp Search/Chase. CPD Units c... https://t.co/exYsPegqAZ-1\n",
      "Shooting on 5300 BLOCK OF S UNION AVE, Chicago, IL (via https://t.co/5zY7AZauvp): Shooting/Stabbing. CPD on scen... https://t.co/mTp6F5UOYM-1\n",
      "RT @boobieblack3: CHICAGO WHAT UP..\n",
      "#BWA \n",
      "#IDGT \n",
      "#ISLAH \n",
      "#OGBOOBIEBLACK \n",
      "#THEBOOBIETRAPP @ Chicago, Illinois https://t.co/FeCnfNDrey0\n",
      "RT @boobieblack3: I ALWAYS THINK BEFORE I ACT ON ANY SITUATION! 🔴🔴🔴\n",
      "#BWA \n",
      "#IDGT \n",
      "#ISLAH \n",
      "#OGBOOBIEBLACK… https://t.co/DRtRDsKsid-1\n",
      "RT @boobieblack3: I WILL HANDLE BUSINESS! \n",
      "#BWA \n",
      "#IDGT \n",
      "#ISLAH \n",
      "#OGBOOBIEBLACK \n",
      "#THEBOOBIETRAPP @ Chicago, Illinois https://t.co/v1qPi9Vq8R0\n",
      "RT @Hemo_kamal: I'm at Grand Lux Café in Chicago, IL https://t.co/mA2nknIvl60\n",
      "Fantasia ❤️ it!!!!!! @ Chicago, Illinois https://t.co/mMyHG7tv751\n",
      "The line of people waiting to hear my #allrequest show @redheadpianobar in #rivernorth #nocover… https://t.co/zU3Ut1tcyH1\n",
      "Don Chambers - Tarnish raps \n",
      "Coming in the future 🍽\n",
      "#secondcoming #thehumblingbefore\n",
      "#indianamusic @… https://t.co/nCl8DqcOHn0\n",
      "#latenight snackin 😎🍸🍤🌃 #chicago @ Lawrence's Fisheries https://t.co/hrS0GPcxzr1\n",
      "Oh how I missed this view. #HelloChicago @ Chicago, Illinois https://t.co/IwY5ZQDXH1-1\n",
      "リブ食べてきました🍖 (at @CarsonsRibs in Chicago, IL) https://t.co/agg18Y22MA0\n",
      "Hola #chicago @ Shedd Aquarium https://t.co/cxdb9ZEhbq0\n",
      "RT @ChicagoTough05: @gregbobak Kobe Bryant is retiring after this season... but how is Alexander Webb doing?-1\n",
      "My niece is making Cat Jewelry. His face says it all. #cats @ Chicago, Illinois https://t.co/AOl09Jn9bG-1\n",
      ".\n",
      "⚪️🔴🔵⭐️🔵🔴⚪️⭐️⚪️🔴🔵⭐️\n",
      ".\n",
      "Today's special feature goes to .\n",
      ".\n",
      "🌟  postcitizen .\n",
      "Congratulations and Thank… https://t.co/FoTrH9iTIt1\n",
      "Gollum took over Santa's job this year @ Chicago, Illinois https://t.co/OZ1EbXaeUJ-1\n",
      "🏈🐴#Broncos win &amp; beat the #Patriots! What a crazy game! Way to go @Broncos!😃🏈 #DENvsNE1\n",
      "How did our Thanksgiving break end so fast? It was a good break. See you soon, chicas. @ The Giant… https://t.co/PB0HgyB3fq0\n",
      "I'm at The Berkshire Room in Chicago, IL w/ @sereneme https://t.co/bdwSybQbVn https://t.co/mXPhvSIR230\n",
      "House clean and Tree Up🏡🎄❤️ #LifeIsGood☺️1\n",
      "I really didn't want to leave 😢 #seeyouintwoweeks @ Downtown Chicago… https://t.co/JysYA5oULp-1\n",
      "Michigan State 77 Providence 64 https://t.co/zxWRAm9blO #ncaa0\n",
      "It was a pleasure to meet @dyro and rage to his set. You killed it brotha! #killedit #rage #DJ #EDM… https://t.co/mTMxdd2qrs1\n",
      "serving space babe realness 👽🤑 @ Outerspace https://t.co/6VUZFNdEag0\n",
      "Curvy Brides!!!! Book your appointment online at https://t.co/Ctt9rThOpz #chicago #plussizebride… https://t.co/CZwMX4hqWl0\n",
      "I love my boyfriendS. #ThirdWheel @ Estelle's Cafe n Lounge https://t.co/7aRYBeEaOO1\n",
      "Back to work! #angelsenvy #guardianlife #lifestylechoices #oftheangels @ Paramount Room https://t.co/J5Tw7NQAzs0\n",
      "Smile @ Chicago, Illinois https://t.co/MzGtPy6MZR1\n",
      "@omgitstiffyc :(0\n",
      "West side of the display #lego @ Chicago, Illinois https://t.co/hFcQQ19mDI0\n",
      "RT @fakeshoredrive: Tune into #TheDriveSXM TONIGHT on shade45 for 2 hours of the hottest music in the Midwest. New sets… https://t.co/WgX2I…1\n",
      "Iraq War veteran and mother of 2 were victims in Planned Parenthood shooting https://t.co/qQWLRL7NVk-1\n",
      "Donald Trump scraps endorsement event after black pastors object https://t.co/ZS0qCqhUAC-1\n",
      "RT @CROMEchicago: Oh, hello #rock #texture...\n",
      "\n",
      "I had ideas on my walk last week with #MissMiatheDiva on something I… https://t.co/5uibL4mxWx0\n",
      "I'm at City of Chicago in Chicago, IL https://t.co/449mFOI1MR1\n",
      "Been thinking about it since thanksgiving. Thankful for the past 3 years and how far ive been able to… https://t.co/DrvWlbXv8B1\n",
      "X-mas decorations up #lego @ Chicago, Illinois https://t.co/tA35r3jltM1\n",
      "THE LIGHT BETWEEN US  |  #Daily_Dreamer\n",
      "___________________________\n",
      "\n",
      "#Light + #Spiritual +… https://t.co/T5LFzoxuEi0\n",
      "I can't wait to see you again. 📷 by theamazingphotographer. #ava #avathewolfdog @ Chicago, Illinois https://t.co/siBU025OdO1\n",
      "RT @TheFBombs: This festive look coming to the blog soon!! ❤️💙 • Shop this look before it goes live here!! ---&gt;… https://t.co/i30AGGC9Wa0\n",
      "Great time cheering on the Illini yesterday! #selfiesunday… https://t.co/EGHzjSSZra1\n",
      "amazing view from the 95th floor #signatureroom @ The Signature Room at the 95th https://t.co/7nspvid9oz1\n",
      "South Carolina 67 Hawaii 51 https://t.co/6xWMFHWNLU #ncaaw0\n",
      "Thanks for #shoplocal apropheticsound\n",
      "・・・\n",
      "What's under your tree?#onlythebest #reformedschool… https://t.co/RQMohRxOSP1\n",
      "If you're a #Sales professional in #Chicago, IL, check out this #job: https://t.co/StZjYx6YBe #Hiring0\n",
      "Nice way to top off a great dinner #signatureroom #knobcreek120 @ Signature Lounge at the 96th Floor,… https://t.co/SLUBIuKHco1\n",
      "Other on 3700 BLOCK OF W DOUGLAS BLVD, Chicago, IL (via https://t.co/5zY7AZauvp): Perp Search/Chase. CPD Units c... https://t.co/tbq9crET9f-1\n",
      "This was my BIRTHDAY CAKE!!! I died when it came out😲😲😲 25 is already turning out to be phenomenal.… https://t.co/UOdYuTlENO1\n",
      "Think I found my new favorite cocktail. THIS should help me get over my cold! @ Three Aces Chicago https://t.co/JUf6wrWf6z1\n",
      "RT @LaVitaminaT: Mango tamales! #Mexican #Foodies #Chicago @ New Rebozo Chicago https://t.co/uqXUPFpAbj0\n",
      "RT @LaVitaminaT: Wagyu beef and steak frites. #Chicago #best #food @ The Peninsula Chicago https://t.co/3tOkleHSIy1\n",
      "Digging these, actually. (Of course!...I am!) \n",
      "\n",
      "#texture #experimenting #materials #processes… https://t.co/Ta4wW7Zjex1\n",
      "LA FAMILIA ❤️❣❤️ @ FleetWood Chicago https://t.co/a2Gk1X9JKj1\n",
      "#TB\n",
      "\n",
      "at the last #blackfriday 💡  🇺🇸 🌃\n",
      "\n",
      "#magnificentmile #citylights #nighttime @ The Magnificent Mile https://t.co/Ccg6FwJLwE1\n",
      "The hashtag #BleepASongToMakeItSoundDirty took the 7th place in the Top20 of Chicago's Trends for Saturday 28: https://t.co/FnmLH8MNnv1\n",
      "Just posted a photo @ FleetWood Chicago https://t.co/1kOkr2bDZG0\n",
      "RT @Camouflagetgdc: @Monalitto: \"I see my mom smile that's a blessing 🙏🏼\" Real Life 💯1\n",
      "Chicago &gt; Studying for finals🙃🌃 #TakeMeBack @ Chicago, Illinois https://t.co/KBDNuKIjLg-1\n",
      "Just posted a photo @ Untied Center https://t.co/ldzJs8mf2J0\n",
      "Chillen solo in Refuge Live listening to 90s music and having a drink 😁 .... \n",
      "\n",
      "#Godfirst… https://t.co/ljYevXw82z1\n",
      "Gotta Eat!!! (at @Sunda in Chicago, IL w/ @djgordo23) https://t.co/hQmL8aNIVL0\n",
      "Literally everyday someone new is engaged #howdidwegetsoold-1\n",
      "End of the world 2017-1\n",
      "Never #Growup 😁🙌🏽💯 #SundayFunday #rollerskating #chicago #skating @ Chicago, Illinois https://t.co/iPkqPNQKnu1\n",
      "The end of the world 2017-1\n",
      "#50thbirthday #watranightclub #djfreddybheavyhitter @ 47th &amp; Pulaski https://t.co/pgwsPakMR11\n",
      "My son  RT @SourPatchhh: Who makes you happy? What is the most important thing in your life?1\n",
      "#50thbirthday ##watranightclub #djfreddybheavyhitter @ 47th &amp; Pulaski https://t.co/drjjwvC0cO1\n",
      "RT @am_in_america: #Chicago. Love this city ❤️🎉😍🙌🏽🍷🍷🍷🍷. View taken from a lovely little #yogi rooftop . Missing my #ytt… https://t.co/fnfb4…1\n",
      "White fragility is racial violence: https://t.co/6e5sz2DnMT-1\n",
      "A 2002 Chevrolet Tahoe was just scanned near Chicago, IL 60623 https://t.co/ACZACnVx3d #scanner #ilovevinny #follow0\n",
      "Mother of 2 &amp; Iraq vet ID'd as civilians killed in PlannedParenthood attack https://t.co/4IDroYg26g-1\n",
      "Time is running out  the Antichrist is approaching-1\n",
      "Crazy how sometime I complain about what I don't have but send you a 👼 to tell you.... Dad you are… https://t.co/YPR02k9Xeh1\n",
      "ROUND TWO❗️❗️ 👊🏾💥\n",
      "--------------------------------------------------------\n",
      "You GET out what you PUT… https://t.co/2rxxh5saTh-1\n",
      "RT @SarahRGaw: Distance isn't an issue, because at the first and in the end, I love you… https://t.co/hVKxbSKwsw1\n",
      "A 2002 Chevrolet Tahoe was just scanned near Chicago, IL 60623 https://t.co/Pa268hmek6 #apple #vinnyapp #retweet0\n",
      "Time is running out if your name is not written in the book of life lake of fire you go-1\n",
      "Sold it 1980's Schwinn Le Tour III in West Town, Chicago, Illinois (via @krrbsale) https://t.co/IcPvG448ji1\n",
      "Time is running out 666 is the Antichrist number-1\n",
      "El Lider del campeonato esta en semifinales !\n",
      "\n",
      "#SoyDePumas #PorlaOctava #PorTiUniversidad #Goya :) @… https://t.co/mvmBxUMvin0\n",
      "Chicago showed me so much love! 😎🎶\n",
      "Outfit sponsored by levelsdetroit 💯\n",
      "#HotSquad #Actor #Music… https://t.co/i5slG6x1AC1\n",
      "666 is the Antichrist number I pray that your name is written in the book of life-1\n",
      "Sold it Vintage Acrylic Telephone in West Town, Chicago, Illinois (via @krrbsale) https://t.co/dah94srM5Y0\n",
      "Time is running out the Antichrist will be here 2017-1\n",
      "666 is the Antichrist number-1\n",
      "RT @WifiAndPorn: No you don't  RT @PINENIPPLESS: I wish it snowed in Florida sometimes. It would be nice to actually have a snowy Christmas.-1\n",
      "RT @WifiAndPorn: No you don't  RT @PINENIPPLESS: I wish it snowed in Florida sometimes. It would be nice to actually have a snowy Christmas.-1\n",
      "Time is running out the Antichrist will be here-1\n",
      "Have your name is not written in the book of life you are going into the lake of fire-1\n",
      "Narcissism 101: 📚 @ Willis Tower https://t.co/pLfq5iSX3H-1\n",
      "666is the Antichrist number-1\n",
      "Don't be deceived by the Antichrist time is running out-1\n",
      "Antichrist going to be in Jerusalem claiming in to be Jesus Christ-1\n",
      "#grandcru decadence by @bagchatter milkroomchicago chicagoathletichotel &amp; @hennessyus… https://t.co/WeGLm52Tga0\n",
      "Time is running out time is running out-1\n",
      "Time is running out 666is the  Antichrist number-1\n",
      "#50thbirthday #watranightclub #djfreddybheavyhitter birthday lady enjoying herself with friends &amp;… https://t.co/xgl0yXvOXV1\n",
      "RT @fvckjocy: 😏 http://t.co/3aFqoCsN6P-1\n",
      "\"God bless us everybody!\" #liltim 🙌 😂🎤 #qbrotherschristmascarol🎄… https://t.co/B7rsyww5LW1\n",
      "Gotta eat (at @Sunda in Chicago, IL) https://t.co/LVw3js8i7v0\n",
      "If your name is not found written in the book of life you are going into the lake of fire-1\n",
      "Time is running out 666 is the Antichrist number-1\n",
      "Time is running out the Antichrist is approaching 2017 he would be here-1\n",
      "If your name is not written in the book of life you are going into the lake of fire-1\n",
      "#50thbirthday #watranightclub #djfreddybheavyhitter more steppin @ 47th &amp; Pulaski https://t.co/h2TgP6NjFm1\n",
      "Don't be deceived by the Antichrist 666 is the Antichrist number-1\n",
      "Like Lil Wayne said maybe for the money and the power and the fam right now she will-1\n",
      "#50thbirthday #watranightclub #djfreddybheavyhitter steppin @ 47th &amp; Pulaski https://t.co/ovSa1r1V2g0\n",
      "I feel like this really captured the superhero look whitney_middleton was going for in… https://t.co/yTbtsnDh1N1\n",
      "666 is the Antichrist number-1\n",
      "RT @fvckjocy: 😏 http://t.co/3aFqoCsN6P-1\n",
      "Don't be deceive by the false prophet-1\n",
      "@anne_theriault Nymphomaniac Part 1 &amp; 2-1\n",
      "Don't be deceive by the Antichrist 666 is the Antichrist number-1\n",
      "Went to the Chicago Art Museum for free and saw some really good pieces ~Hunter @ The Art Institute… https://t.co/ZanbQupYH31\n",
      "your name is not written in the book of life you are going into the lake of fire-1\n",
      "The Antichrist will be a 2017 the Antichrist will be a 2017-1\n",
      "666 is Antichrist number-1\n",
      "If your name is not written in the book of life you are going into the lake of fire second death after the flash-1\n",
      "The end of the world of 2017 watch the news the Antichrist will be here-1\n",
      "The world is going to end 2017 the world is going to end 2017-1\n",
      "Car Seat Headrest @ Schubas #lasttimetheywillplayavenuethatsmall #carseatheadrest #indierock… https://t.co/rbeBGzHYUw0\n",
      "Weather now: overcast clouds, 35°F, 10 mph east wind. https://t.co/9biuUD96zX0\n",
      "One day... 🌎 @ Chicago, Illinois https://t.co/d9eVhVwspe0\n",
      "#HydePark #Detroit #Dallas zo3hree5ive @carmenrodgers &amp; bane dope performance @promontorychi… https://t.co/z2M6McdxA80\n",
      "The end of the world 2017-1\n",
      "Don't be deceived Antichrist-1\n",
      "Walking back from The Water Tower Saturday evening. #magnificentmile #chicago #instachicago @ The… https://t.co/kqW8NJqvtj1\n",
      "RT @am_in_america: #Chicago. Love this city ❤️🎉😍🙌🏽🍷🍷🍷🍷. View taken from a lovely little #yogi rooftop . Missing my #ytt… https://t.co/fnfb4…1\n",
      "The end of the world is 2017-1\n",
      "The Antichrist will be here 2017 is the end of the world-1\n",
      "The end of the world in 2017 the end of the world 2017-1\n",
      "So grateful to be with the people I love ... Doing what I love... Aren't my cousins are so handsome 😍… https://t.co/1xfw5IIaEu1\n",
      "Don't be deceived by the Antichrist-1\n",
      "The end of the world 2017 the end of the world in 2017-1\n",
      "666 is the Antichrist number-1\n",
      "RT @justmovefitsf: Chicago Skyline. #justmove #yogaeverywhere #strikeapose @ The Lakefront https://t.co/W35BrYLM9q1\n",
      "Today was bittersweet 😢 last day teaching at stilettodance there will never be another #polefamily… https://t.co/VJk7iVD1v2-1\n",
      "🚘🚝🚶🏽 @ Chicago, Illinois https://t.co/2gpj4EoT4t0\n",
      "Publishing cleanse  house is going to be  at my house what 12 million + 7000 week for life1\n",
      "#krsone #theshrinechi #sundayfunday #satellitebar #ladyinred #liveconcert… https://t.co/RQXNffEE2I1\n",
      "#Chicago. Love this city ❤️🎉😍🙌🏽🍷🍷🍷🍷. View taken from a lovely little #yogi rooftop . Missing my #ytt… https://t.co/fnfb4sdsnG1\n",
      "RT @Awaitingmyheart: Imma have my own one day dnt trip 💯💯1\n",
      "666 is Antichrist number the FBI don't stand a chance against Antichrist-1\n",
      "Cousinly Cool Love with @maurahonan and @meganhonan \n",
      "\n",
      "#cousins #cousinlove #cousinbonding… https://t.co/LSMPckzLjh1\n",
      "Today was bittersweet 😢 last day teaching at stilettodance there will never be another #polefamily… https://t.co/LYKy4vThGd-1\n",
      "Mike at the United Center. @ Chicago, Illinois https://t.co/OMhSfgbsj30\n",
      "If your name is not written in the book of life you are going into the lake of fire-1\n",
      "Time is running out time is running out-1\n",
      "The police and FBI don't stand a chance against the anti-christ-1\n",
      "The police and the FBI don't stand a chance against the Antichrist-1\n",
      "The police and FBI don't stand a chance against the Antichrist-1\n",
      "Join the Coyote Logistics team! See our latest #IT #job opening here: https://t.co/NMGy50JjfM #Chicago, IL #Hiring https://t.co/r3PGChINO70\n",
      "RT @Chicago_CP: The University of Chicago Has Canceled Monday Classes Due To FBI Threat Warning https://t.co/O3C28E9qe3-1\n",
      "The end of the world of 2017 the FBI don't stand a chance against the Antichrist-1\n",
      "RT @WifiAndPorn: No you don't  RT @PINENIPPLESS: I wish it snowed in Florida sometimes. It would be nice to actually have a snowy Christmas.-1\n",
      "The FBI to stand a chance against the Antichrist-1\n",
      "Crossed seeing the Chicago Christmas Tree off my bucket list. 🎄😊☃… https://t.co/OlXGbkw5Jr1\n",
      "No you don't  RT @PINENIPPLESS: I wish it snowed in Florida sometimes. It would be nice to actually have a snowy Christmas.-1\n",
      "FBI don't stand a chance against the Antichrist-1\n",
      "#industrysundays #chicagofood @ Sunda https://t.co/wIRGXM4O1M0\n",
      "Fbi don't stand a chance against the Antichrist-1\n",
      "❤️❤️❤️❤️❤️❤️❤️❤️❤️ @ FleetWood Chicago https://t.co/Qr1GzAGilS1\n",
      "Pollo :) @ 8fifty8 Chicago https://t.co/F4HlU6XjpD1\n",
      "The University of Chicago Has Canceled Monday Classes Due To FBI Threat Warning https://t.co/O3C28E9qe3-1\n",
      "The FBI don't stand a chance against the Antichrist-1\n",
      "Watch the news watch the news-1\n",
      "Don't deceive by the false prophet he will be here-1\n",
      "If your name is not written in the book of life you are going into the lake of fire-1\n",
      "Don't be deceived by the Antichrist-1\n",
      "The end of the world in 2017 666 is the Antichrist number-1\n",
      "The end of the world 2017-1\n",
      "Don't be deceived by the Antichrist 666 is the Antichrist number-1\n",
      "When the Antichrist, come we are going to be in the flesh bodies-1\n",
      "When the true Jesus Christ return we are going to be in spiritual bodies1\n",
      "666 is the Antichrist number 666 is the Antichrist number-1\n",
      "Watch the news watch the news time is running out-1\n",
      "I'm coming up now\n",
      "coming up now\n",
      "out of the blue ~ @ Chicago, Illinois https://t.co/BwiDXXEBXz0\n",
      "Wait what!? LMFAOOOOOO RT @Bella_Tha_Boss: 😂😂 https://t.co/FVtzwqExF71\n",
      "LMFAOOOO RT @_SirFlo: RT @Jotomyz: Are you gonna cry when Kobe retires? #koberetire https://t.co/GzMjqXzdSY-1\n",
      "The end of the world 2017 watch the news watch the news-1\n",
      "Time is running put-1\n",
      "Just posted a photo @ FleetWood Chicago https://t.co/fFIVAfyTof0\n",
      "RT @megbarnz: @megbarnz #endsrirachaculture0\n",
      "Just posted a photo @ FleetWood Chicago https://t.co/EW2nfFMBwv0\n",
      "This #Hospitality #job might be a great fit for you: SOUS CHEF - CHICAGO, IL - https://t.co/autQdn6XR7 #souschef #Chicago, IL #Hiring1\n",
      "RT @tmj_chi_cosmo: #CHICAGO, IL #Cosmetology #Job: Asst Salon Leader at Hair Cuttery Salon https://t.co/GCFDpXIGKt #Jobs #Hiring #CareerArc0\n",
      "Can you recommend anyone for this #SupplyChain #job? https://t.co/nDE3iLQ1aH #airlines #Chicago, IL #Hiring https://t.co/FHFnEnNZv11\n",
      "If your name is not written in the book of life you are going into the lake of fire-1\n",
      "Just posted a photo @ FleetWood Chicago https://t.co/l3qrv1em1g0\n",
      "The end of the world 2017 666 is the Antichrist number the world's going to end 2017-1\n",
      "Dear Chicago,\n",
      "                          You the real MVP #throwback @… https://t.co/cXS2KkMAzL1\n",
      "Don't received the mark of the beast-1\n",
      "Every night is date night. @ Alinea https://t.co/iWtuxWfmgd1\n",
      "If your name was not written in the book of life you are going into the lake of fire-1\n",
      "666 is the Antichrist number-1\n",
      "Don't be deceived by the Antichrist 666 is the Antichrist number-1\n",
      "Just posted a photo @ FleetWood Chicago https://t.co/T8ffxCtYdS0\n",
      "Killing it. @ The Promontory https://t.co/dpLDDMJtuy1\n",
      "RT @MishonnAlexa: @_lilbri_ invades chicago @ Chicago, Illinois https://t.co/z3XSdlZ4iQ1\n",
      "Don't be deceived by the Antichrist if you receive the mark you are going to hell-1\n",
      "El internet de hace 100 años. Letter Box #chicago # @ Residence Inn - Loop https://t.co/VBE6XYoELz0\n",
      "It's beginning to look a lot like Christmas in my little home ☺️ @ Chicago, Illinois https://t.co/egyqh4N70E1\n",
      "Hello everyone  From Chicago! ☝☺✌🌟#love #InstaTags4Likes #tweegram #photooftheday #amazing #followme… https://t.co/V6Dvisw0j01\n",
      "The end of the world is 2017 666 is the Antichrist number-1\n",
      "Don't be deceived by the false prophet-1\n",
      "♦Temporary Post♦\n",
      "◾◾◾◾◾◾◾◾\n",
      "Listen up folks! I'll be showcasing some of my work there amongst several… https://t.co/DMuaxeFfkn0\n",
      "The end of the world 2017-1\n",
      "The end of the world in 2017-1\n",
      "Too much of a good thing can be truly wonderful. So long to the 4-day weekend...but I did post a… https://t.co/To6EyLkRmR1\n",
      "For the money and the power and the fame right now she will-1\n",
      "@Cokerushbaby LMFAOOO1\n",
      "Don't be deceived by the Antichrist-1\n",
      "#Holidays #🎄 @ Chicago, Illinois https://t.co/qfwF2x1kEZ1\n",
      "@megbarnz #endsrirachaculture0\n",
      "Pacific 71 Sacramento State 79 https://t.co/m1zL2XBTaR #ncaa0\n",
      "number one turn off: sriracha shirts-1\n",
      "The hashtag #SmallBizSaturday took the 5th place in the Top20 of Chicago's Trends for Saturday 28: https://t.co/FnmLH8MNnv #trndnl1\n",
      "RT @Cloud9Griptape: Out skate the weather. @imaskater07 📸: @inshane___ #LifeIsTooShortForBoringGriptape #Chicago @… https://t.co/XOxOpeYqmE-1\n",
      "Surprise ending. Lol 🎉🎉🎉🎉\n",
      "\n",
      "#edm #hiphop #dancehall #chicagoproducer #music #djs #production… https://t.co/27a9ZoB1QH1\n",
      "RT @BrentCayson: Getting ready to kick off emo vs pop punk night! (@ Beauty Bar in Chicago, IL w/ @willsuf) https://t.co/yF0NQCZjqO1\n",
      "The end of the world 2017 the end of the world 2017-1\n",
      "#50thbirthday #watranightclub #djfreddybheavyhitter more house music @ 47th &amp; Pulaski https://t.co/PUkMb7ugeY0\n",
      "#daydreamsundays #coatdrive @ Network Bar and Grill https://t.co/ezRNAFi2kV0\n",
      "zo3hree5ive @carmenrodgers @collectivepeace LIVE in Chicago @ The Promontory https://t.co/wQfh8y5PSF1\n",
      "RT @iamalbertray: Justice or Else...\n",
      "\n",
      "Men of Color there is a war going on outside...none… https://t.co/x1JmLwca24-1\n",
      "#watranightclub #50thbirthday #djfreddybheavyhitter house music 💃🏼🏃🏼 @ 47th &amp; Pulaski https://t.co/uGhheggaUI0\n",
      "Don't be deceived by the Antichrist 666 is Antichrist number-1\n",
      "We call it that because we came from there #eatingndastreets https://t.co/gYMedaxwbc https://t.co/Iy8Pm2f0J51\n",
      "Don't be deceived by the Antichrist 666 is the Antichrist home-1\n",
      "Want to work in #Chicago, IL? View our latest opening: https://t.co/hsLhGNe2sv #SkilledTrade #airlines #Job #Jobs https://t.co/gWf2fLpBnL0\n",
      "666 is the Antichrist number 666 is the Antichrist number-1\n",
      "The whole world follow the beast0\n",
      "DOPE calavera art #latergram @ Block Thirty Seven- Shops on State https://t.co/m8wbB9izb40\n",
      "Baller Sundays. #industrysundays #chicagofood @ Sunda https://t.co/DtTzVxBNOE0\n",
      "If your name is not written in the book of life you are going into the lake of fire-1\n",
      "#cheeks #skydeckchicago #ilooksohigh #iwashigh #highupinsearstower #lol #yessearstower… https://t.co/2s469cEzPI1\n",
      "666 is Antichrist number-1\n",
      "Slut Boy #BeingTheBoy #KhiryAdonis #KhiryHakeem @ Chicago, Illinois https://t.co/RM6m8lfI8H-1\n",
      "666 is the Antichrist number-1\n",
      "RT @justmovefitsf: Chicago Skyline. #justmove #yogaeverywhere #strikeapose @ The Lakefront https://t.co/W35BrYLM9q1\n",
      "The end of the world is 2017 watch the news-1\n",
      "Don't be deceived by the Antichrist don't be  deceive by the Antichrist-1\n",
      "Ready for Santa to swing by!  #Christmas #tree #penguin #santaclaus @ One… https://t.co/COmGDjrWBg1\n",
      "This festive look coming to the blog soon!! ❤️💙 • Shop this look before it goes live here!! ---&gt;… https://t.co/i30AGGC9Wa1\n",
      "Antichrist will be here-1\n",
      "#macys window displays @ Macy's State Street https://t.co/2qo47we5O90\n",
      "Brooklyn Insulated Dark Lager now available in bottles. https://t.co/HLHLGj6Ko6 @brooklynbrewery #BeerMenus0\n",
      "cousin faith wants you (AND your man) to come ride with me at @soulcycle this week! i am subbing for… https://t.co/d5XMC3gzfa1\n",
      "The end of the world 2017 the end of the world as 2017-1\n",
      "Who likes red bottoms? We are giving away a pair of Christian Louboutin heels to one lucky… https://t.co/cHzZNzKuPL1\n",
      "I washed his hair today, giving him a lesson on how to take care of long, thick Hayden hair. His… https://t.co/TCJY1Gx0Qf-1\n",
      "Money and the power in the fan right now she will-1\n",
      "#christmas at #macys #chicago #downtown @ Macy's State Street https://t.co/sSMrwjvWTW1\n",
      "Some bricks to the face, some busted knees and some very grateful… https://t.co/VHD9L5kGRO-1\n",
      "@_lilbri_ invades chicago @ Chicago, Illinois https://t.co/z3XSdlZ4iQ0\n",
      "The end of the world 2017 the end of the world of 2017-1\n",
      "Famous sculpture of the Lady/Dog by that Spanish dude flanked by German holiday festivities @… https://t.co/9REJMUhsr01\n",
      "The end of the world is 2017 the end of the world of 2017-1\n",
      "Don't be deceived by the Antichrist don't receive the mark of the beast-1\n",
      "I'm at La Michocana in Chicago, IL https://t.co/b3wMNsvbMA0\n",
      "Winter is here. The 151 isn't. #bus #selfie #winter #coldaf #chicago @ Chicago, Illinois https://t.co/nkaTvboQib-1\n",
      "Don't be deceived by the false prophet 666 is the Antichrist number 2017 is the end-1\n",
      "On my way to the hotel. It's been a long day… #mylife #chicago @ Chicago, Illinois https://t.co/uJ9leb0xru-1\n",
      "Your name is not written in the book of life you are going into the lake of fire-1\n",
      "#spartanswill @ The Bean https://t.co/tIICpV6CIf0\n",
      "The end of the world 2017 the end of the world 2017-1\n",
      "Oh, hello #rock #texture...\n",
      "\n",
      "I had ideas on my walk last week with #MissMiatheDiva on something I… https://t.co/5uibL4mxWx0\n",
      "When the Antichrist come we are going to be in the flash bodies-1\n",
      "'Ohio State' appeared on Saturday 28 at the 11th place in the Top20 of Chicago's Trends: https://t.co/FnmLH8MNnv #trndnl1\n",
      "Forever Sears Tower #latergram @ Willis Tower https://t.co/ZXqRPfUY6h1\n",
      "I'm at @Mortons The Steakhouse in Chicago, IL https://t.co/QpkOaQRQV21\n",
      "666 is Antichrist number don't receive the mark of the beast-1\n",
      "#watranightclub #50thbirthday #djfreddybheavyhitter biker shuffle @ 47th &amp; Pulaski https://t.co/Qlj8I3n8ya-1\n",
      "#family #daydreamsundays #coatdrive @ Network Bar and Grill https://t.co/evTPiJmiKo1\n",
      "The end of the world 2017 and the world of 2017-1\n",
      "#42 #awesomeness! The birthday tour continues! @carmenrodgers zo3hree5ive @ The Promontory https://t.co/KN5EG4icTP1\n",
      "RT @KacyHintz: Buy my height in tickets and you will win! #ItsForTheFellas paiger262 @ Bottled Blonde Chicago https://t.co/GWApYD17nj0\n",
      "University of Chicago cancels Monday classes after threat to Hyde Park campus https://t.co/Kbk7zR2QRP-1\n",
      "If you received the mark of the beast you are going to hell-1\n",
      "Who likes red bottoms? We are giving away a pair of Christian Louboutin heels to one lucky… https://t.co/cIxOS540Ls1\n",
      "Practice makes better. @ Chicago, Illinois https://t.co/xyhKb9Y5Fv1\n",
      "If your name is not written in the book of life you are going into the lake of fire-1\n",
      "My happy place. #happy #love #catsofinstagram #catlady #drwatson #tabby @ Chicago, Illinois https://t.co/yszwhzACDr1\n",
      "The end of the world of 2017 the Antichrist will be here-1\n",
      "If they asked  you why we did it...we did it for love.- @rkelly #soultrainawards @ Chicago, Illinois https://t.co/En5YkDh8DB1\n",
      "RT @Cloud9Griptape: Out skate the weather. @imaskater07 📸: @inshane___ #LifeIsTooShortForBoringGriptape #Chicago @… https://t.co/XOxOpeYqmE-1\n",
      "Don't be deceived by the Antichrist don't be deceived by the Antichrist-1\n",
      "The spirit of Ceres watches over New Gotham #thedarkknight #Chicago #gothamcity #latergram @ CBOT https://t.co/nemv5Ufpp30\n",
      "I pray your name is written in the book of life-1\n",
      "Wonderful day for tea time #DrakeHotel #tea @ The Drake Hotel https://t.co/Sv2wlHgufv1\n",
      "#Repost @darealdiego\n",
      "・・・\n",
      "*Special Alert* @ Hydepark https://t.co/P2KbXQtoqd-1\n",
      "Hell is getting bigger and bigger hell is getting bigger and bigger and receiving more soul everyday-1\n",
      "I am seriously tired ...whew! Back in the outpost &amp; that makes me feel good... https://t.co/H7MyqauCRN https://t.co/nGmzOLFEhj0\n",
      "This Puppy Is learning so much!  Puppy Learn a lot in The First 8 weeks.  Teach Your Puppy… https://t.co/aIV9C9Mk0c1\n",
      "Don't be deceived by the Antichrist 666 is the Antichrist number-1\n",
      "I love you 2....#angelbaby #remix #youtube #rapper #model #streetdude #chicago #detroit #cleveland… https://t.co/rXy1Bh62Xx1\n",
      "The Antichrist will be there have hell is getting bigger more people are dying and going to hell-1\n",
      "Don't receive the mark of the beast don't receive the mark of the beast it's not worth going to hell-1\n",
      "Hopefully I'll get to experience the Chicago lifestyle for the next 4… https://t.co/48apNDadgQ1\n",
      "666 is the Antichrist number 666 is the Antichrist number-1\n",
      "The end of the world of 2017 Antichrist will be here-1\n",
      "Practicando. 🙌🏾🙌🏾🙌🏾🙌🏾🙌🏾\n",
      "\n",
      "#edm #hiphop #dancehall #chicagoproducer #music #djs #production #chicagodj… https://t.co/MlmgO53Q1v1\n",
      "Don't be deceived by the Antichrist-1\n",
      "Just posted a photo @ Shedd Aquarium https://t.co/RXMDPRgis00\n",
      "im #hardbody b**** @ Chicago, Illinois https://t.co/oMqwy2Ho6U0\n",
      "Thank you @kobebryant it's been a hell of a run. @ Chicago, Illinois https://t.co/plF1kwlno01\n",
      "Hope you are save because if not you are in trouble-1\n",
      "Out skate the weather. @imaskater07 📸: @inshane___ #LifeIsTooShortForBoringGriptape #Chicago @… https://t.co/XOxOpeYqmE-1\n",
      "11.07.15 #LP @ Koncrete Nightclub &amp; Events https://t.co/k9ivNQ9yr90\n",
      "name is not written in the book of life you are going into the lake of fire-1\n",
      "The end of the world of 2017-1\n",
      "End of the world 2017 the end of the world of 2017-1\n",
      "The end of the world 2017-1\n",
      "mad cowZa titor doZa #AllOverPrint #Shirt by #DanielBrummitt… https://t.co/lp8AIo7sEa0\n",
      "666 is the Antichrist number 777 is the true Jesus Christ number-1\n",
      "no one I'd rather Black Friday shop with in the frigid temps of chi 🎁🎄 @ Michigan Avenue, Downtown… https://t.co/Vv6m9sxxhR1\n",
      "The whole world follow the Beast the whole world follow the beast-1\n",
      "Can you find Chicago on the map? Just try it at https://t.co/3MF1ZObvqS #Chicago0\n",
      "The governor and president going to give the Antichrist power over everybody0\n",
      "End of the world of 2017 maybe for the money and the power and the fame right now she will-1\n",
      "Justice or Else...\n",
      "\n",
      "Men of Color there is a war going on outside...none… https://t.co/x1JmLwca24-1\n",
      "Sunday nite cap!! (@ Pizza Nova in Chicago, IL) https://t.co/AHcabYGAtw1\n",
      "Famous people are going to worship the Antichrist tohe calls all rich poor free bond to receive a mark and their right hand or foreheads-1\n",
      "The return of the classic Nike Air on the heel of the Air Jordan 6 'Maroon' OG coming out next… https://t.co/3nWCoCkzY21\n",
      "RT @Sylviastar1313: Bowling with my babies #KingsBowl #LincolnPark #SundayFunday #ZariahSkye #Joel 🎳👶💓💓 @ Kings Bowl… https://t.co/7ltkEvua…1\n",
      "Don't be deceived by the Antichrist-1\n",
      "Absolutely beautiful dairy free, and 100% dreamy, delish sweets from sixteenchicago @ Sixteen https://t.co/j7Qde2qhJP1\n",
      "The world is going to end 2017 the Antichrist will be here-1\n",
      "Watch the news watch the news-1\n",
      "My Christmas cactus very respectfully waited until the day after Thanksgiving to go into full bloom.… https://t.co/ka5Z9C776r1\n",
      "Don't be deceived by the Antichrist 666 is the Antichrist number-1\n",
      "No Fears, legalize blackness.\n",
      "#16shots #VisualFinesse #blacklivesmatter @ River North, Chicago, Illinois https://t.co/aQuCPcSNq9-1\n",
      "Travelling to Chicago or just twittering about Chicago? https://t.co/3MF1ZObvqS #Chicago0\n",
      "Famous people are going to worship the Antichrist to because their names are not written in the book of life-1\n",
      "Famous people are going to worship the Antichrist to  because their names are not written in the book of life-1\n",
      "Ready to CHOW. (at @Sunda in Chicago, IL) https://t.co/LgcNXpEaMB1\n",
      "That Chicago 'The Bean' moment... 😂👊👌 kimberlybenito stubbornbebelex @ Millennium Park https://t.co/U1QDn1e16L0\n",
      "Was longing for warmer days today at @riverroastchi (like this one from June), but it was still a… https://t.co/5lW4ZjKLhL-1\n",
      "If your name is not written in the book of life you are going into the lake of fire-1\n",
      "666 is the Antichrist number-1\n",
      "The end of the world as 2017 the end of the world is 2017-1\n",
      "I love Memphis, but Chicago is pretty cool, too. @ I-94 Chicago Loop https://t.co/eGOMbllpS71\n",
      "cloudy -&gt; mostly cloudy\n",
      "temperature up 41°F -&gt; 43°F\n",
      "humidity down 67% -&gt; 49%\n",
      "wind 9mph -&gt; 10mph\n",
      "pressure 30.28in falling-1\n",
      "@JamilSmith @hunterw @GOP @CLINT disgraceful-1\n",
      "• 🌙 • @ Chicago, Illinois https://t.co/irNQilDi2B0\n",
      "Shit beat night to have right now with friends #Chicago 😎😎🎼🎶✌💯💪 @ Flaco's Tacos on State Street https://t.co/p7XQoUF0O41\n",
      "The Antichrist is going to be in Jerusalem claiming to be Jesus Christ-1\n",
      "TONITE THOUGH!!! Another Crazy SUNDAY Night at #SHRINE Hosted By Some of Chicago's Sexiest Ladies!!!… https://t.co/OWOmlUfk1V1\n",
      "Hanging with these goobers on my last day home, makes my heart happy.  ❤️ \n",
      "\n",
      "#ChicagoLife… https://t.co/vme76BbL2n1\n",
      "Where is Chicago on the map? Play the game at https://t.co/3MF1ZObvqS #Chicago0\n",
      "It's been real. One of the greatest. @ Chicago, Illinois https://t.co/jCLU9Bar581\n",
      "Aaaaaah nothing beats a good hookah and a cup of mint tea after a seafood feast! #djlife atonezone… https://t.co/4wZekqdcS91\n",
      "#IT #Job in #Chicago, IL: NET Software Engineer at Coyote Logistics https://t.co/jlvhDXWnhh #jointhepack #Jobs https://t.co/thhafT6CY70\n",
      "dicks ♡ @ Dick's Last Resort Chicago https://t.co/KXmNhsYfHI1\n",
      "What the wtf? The Mon Calamari aren't a playable alien race??? What would the admiral say about this? #StarWarsBattlefront-1\n",
      "Getting ready to kick off emo vs pop punk night! (@ Beauty Bar in Chicago, IL w/ @willsuf) https://t.co/yF0NQCZjqO1\n",
      "Approved. #selfiesunday @ Foot Locker https://t.co/e1Y0sJsCpi1\n",
      "RT @jenmakesstuff: About to get our zombie on. (@ Geek Bar Beta - @geekbarchicago in Chicago, IL) https://t.co/LRDlxQAjFx-1\n",
      "I'm a big fan of what this dude has been doing lately and his approach to this business grinding… https://t.co/CFzIoff5tq1\n",
      "Workout of the Day 151130  https://t.co/46OcB6BcRb1\n",
      "Take me back. @ Chicago, Illinois https://t.co/4QMLf35kwG1\n",
      "@joeschicago #crablegs #Chicago #RSNA14 #vacation @ Joe's Seafood, Prime… https://t.co/KtW3LTz0r20\n",
      "After giving thanks last week, we continue to surround ourselves with the love and support of those… https://t.co/tsUIa9gmMF1\n",
      "Officially feels like the holidays. #chicago #happyholidays @ Chicago, Illinois https://t.co/eViksNhD8T1\n",
      "Want to work in #Chicago, IL? View our latest opening: https://t.co/ZxkrlzYpGr #Engineering #Job #Jobs #Hiring0\n",
      "We're #hiring! Click to apply: Linux Engineer - https://t.co/PHAvSZTG2g #Engineering #Chicago, IL #Job #Jobs0\n",
      "RT @eyeshotcha: Go head #bangles #vinyl #boogiemunsters @shazam_bangles @boogiemunsters @ 2000 West Carroll Building https://t.co/VwYxiZAyvI-1\n",
      "Buy my height in tickets and you will win! #ItsForTheFellas paiger262 @ Bottled Blonde Chicago https://t.co/GWApYD17nj0\n",
      "Those #boyztomen always on point! #soultrainawards @ Chicago, Illinois https://t.co/m9fqo4KVUs0\n",
      "University of Chicago Hyde Park campus closed Monday after violence threat https://t.co/3YwhlMducw-1\n",
      "From night chicago ☺#love #InstaTags4Likes #tweegram #photooftheday #amazing #followme #picoftheday… https://t.co/1ZUbiJnA3n1\n",
      "The best man at Bub City @ Bub City https://t.co/2Km3PFVPR31\n",
      "Dinner for one. #singlelife #pumpkinpiecheesecake @ Chicago, Illinois https://t.co/vOTZoGddpU1\n",
      "Bring in 2016 with refreshed skin with our 'Holiday Pomegranate Facial\"!!! I will be revealing our… https://t.co/HDi0RmgvgC0\n",
      "Just posted a photo @ Macy's State Street https://t.co/n0Glc54iew0\n",
      "We're #hiring! Click to apply: 2nd Shift Foreman Trainee - https://t.co/kEW2Bm4638 #Construction #Chicago, IL #Job #Jobs0\n",
      "3136199344 for studio time beats and more!! @ Soldier Field https://t.co/NQYi1IYWTR0\n",
      "I'm at madame kamay's filipino palace in Chicago, IL https://t.co/Awpo3RYwMj0\n",
      "Lights festival #chicagolincolnparkzoo #lights #ChicagoWindyCity #christmastime @ Lincoln Park Nature… https://t.co/Ebe3YJhLX91\n",
      "#Zanies #Chicago @ Zanies Comedy Clubs https://t.co/u7JNlp4iyc0\n",
      "I SEE YOU            Oil on linen WIP #collage #oilpaints #ptdw… https://t.co/NsQHIfjaiP0\n",
      "I'm at Hyatt Regency McCormick Place - @hyattmccormick in Chicago, IL https://t.co/uO0Z872nJj0\n",
      "Cal State Bakersfield 59 Saint Mary's 94 https://t.co/Shb20rUa4F #ncaa0\n",
      "Cal State Bakersfield 59 Saint Mary's 94 https://t.co/Shb20rCyG5 #ncaa0\n",
      "\"The day you stop looking back, you're gonna find that the future, sure beats the hell out of the… https://t.co/ztg9aYuJzt-1\n",
      "Incredibly happy to see this gentleman again. Welcome to #LyricBelCanto rehearsals, Nilo! @ Lyric… https://t.co/oMtKjmrrpv1\n",
      "Just posted a photo @ The Magnificent Mile https://t.co/6eCXHomFXK0\n",
      "Just posted a photo @ The Magnificent Mile https://t.co/BsvJTrdMCM0\n",
      "What a night, personally able to lead Joe to Christ and pray with three others... The other men and… https://t.co/5ELXupXpQT1\n",
      "|| The Window Ledge || @ Chicago, Illinois https://t.co/fFauk5g2eU0\n",
      "A place where you can become totally overwhelmed by options &amp; food. @angalena knows @ Eataly Chicago https://t.co/arbPdqTbQX1\n",
      "RT @Chicago_CP: UChicago campus shut down tomorrow by threat of violence https://t.co/Yntz5R3TuL-1\n",
      "RT @CB_Radio82: My favorite night is back! And it's gonna be goooood! 😏 By @roycedavoyce \"I'll see y'all TOMORROW… https://t.co/sPgonMBtZ41\n",
      "RT @tmj_chi_cosmo: #CHICAGO, IL #Cosmetology #Job: Asst Salon Leader at Hair Cuttery Salon https://t.co/GCFDpXIGKt #Jobs #Hiring #CareerArc0\n",
      "RT @LORIN21: Aaww thanks ☺️ https://t.co/Z0LtARcWi61\n",
      "Did you know that 'Bama' was Trending Topic on Saturday 28 for 3 hours in Chicago? https://t.co/FnmLH8MNnv #trndnl0\n",
      "Aaww thanks ☺️ https://t.co/Z0LtARcWi61\n",
      "Tree and bourbon bar are decorated 😃🎄🐎 @ Chicago, Illinois https://t.co/gw1DE1Opqr1\n",
      "Christmas with Riley ❤️🐾☃❤️ @ Chicago, Illinois https://t.co/DUDvwt8eKI1\n",
      "Just posted a video @ Museum of Contemporary Art Chicago https://t.co/l0RG7WTQOk0\n",
      "c u l8r, beautiful @ Chicago, Illinois https://t.co/9gu6hCUBUz1\n",
      "Chicago Skyline. #justmove #yogaeverywhere #strikeapose @ The Lakefront https://t.co/W35BrYLM9q1\n",
      "Threat cancels classes at University of Chicago https://t.co/4MblGkHGXq-1\n",
      "U of C Hyde Park campus closed Monday because of threat. Story to come shortly. https://t.co/eSQmfazDzC-1\n",
      "University of Chicago cancels classes after threat warning from FBI https://t.co/p15ALSH0IC-1\n",
      "University of Chicago cancels Monday classes after FBI warning https://t.co/dG07X36o64-1\n",
      "UChicago campus shut down tomorrow by threat of violence https://t.co/Yntz5R3TuL-1\n",
      "Seeing Eric Burdon - I'm thrilled! He's one of my faves! (at @CityWineryChi in Chicago, IL) https://t.co/6FcyVyDYmG https://t.co/ZU8FjwQv431\n",
      "FBI reported threat at Univ of Chicago targeted “the campus quad” tomorrow 10 am: UniversityofChicago. ABC 7… https://t.co/eSQmfazDzC-1\n",
      "The Univ of Chicago and Lab School Will be closed tomorrow, following an online threat of gun violence. Details on… https://t.co/eSQmfazDzC-1\n",
      "\"@1035KISSFM: What's your favorite album so far this year!?\"made in the a.m duh #MTVStars One Direction1\n",
      "I'm at Chicago Union Station in Chicago, IL https://t.co/v2tQP70mhZ0\n",
      "😋🍴 @ Bandera Restaurant (Chicago) https://t.co/8kg16jh2Xr1\n",
      "RT @DaBlackSwan: @dyro last night at @themidchicago @ the MID https://t.co/lGXwtYl2BE0\n",
      "RT @bbstate: Wiley College 67 Sam Houston State 66 https://t.co/bg2isWwbGx #ncaa0\n",
      "chicago🏙 @ Christkindlmarket Chicago https://t.co/Rvt8JETBqO0\n",
      "Wiley College 67 Sam Houston State 66 https://t.co/bg2isWwbGx #ncaa0\n",
      "Lost files from last night...Never a dull moment with these three… https://t.co/ZAc07OxMPR1\n",
      "Stanford 71 Purdue 65 https://t.co/QFe2iTJfSj #ncaaw00\n",
      "Xavier romps past Dayton, best start since '11 (CBS) | https://t.co/NMa53oJ5R5 #ncaab0\n",
      "kaijuinu I stole your pic magicianfrombritain #chicago #christkindlmarket… https://t.co/frPpWZilR00\n",
      "I have succumbed to the Dark Side and bought #StarWarsBattlefront now my inner fanboy battles my inner fiscal conservative either way I lose1\n",
      "Bowling with my babies #KingsBowl #LincolnPark #SundayFunday #ZariahSkye #Joel 🎳👶💓💓 @ Kings Bowl… https://t.co/7ltkEvuaRJ1\n",
      "#jinglearoundtheloop @ Millennium Park https://t.co/0TSU5qhSdw0\n",
      "RT @WifiAndPorn: This game was so 🔥🔥🔥 RT @BallUpNBA: #NeverForget https://t.co/PkiZVGwiNT-1\n",
      "#grandcru #sundayfunday with @greglaketek @westloopsalumi thanks @bagchatter @rieslingslut… https://t.co/T00Nbr51FH1\n",
      "If you're a #Healthcare professional in #Chicago, IL, check out this #job: https://t.co/ZxXcExlXhe #Hiring https://t.co/jz0vs9cA100\n",
      "tis the season🎄🎄 @ Millennium Park https://t.co/SRchT5he3j1\n",
      "Christmastime with a view. #sundayfunday #chicago #twinklesandtinsel @ Left Bank at K Station https://t.co/kI1ihFGqLZ1\n",
      "RT @SneakerCon: #Chicago \"The Greatest Sneaker Show on Earth\" returns Dec 12th! - McCormick Place West - 12-7PM -… https://t.co/hKsG9ZgKKv0\n",
      "🍊📙🔶 @ Motivated Models https://t.co/UEFz62txdz0\n",
      "RT @tmj_chi_cosmo: #CHICAGO, IL #Cosmetology #Job: Asst Salon Leader at Hair Cuttery Salon https://t.co/GCFDpXIGKt #Jobs #Hiring #CareerArc0\n",
      "#🐄 #🎉 #chicago #rpm @ RPM Steak https://t.co/LkbdAzVyzn0\n",
      "Hotel views @ Renaissance Chicago Downtown Hotel https://t.co/n9ADDSRf6Y0\n",
      "☁️💦 @ Aqua https://t.co/NxlTgEZUYL0\n",
      "RT @WifiAndPorn: This game was so 🔥🔥🔥 RT @BallUpNBA: #NeverForget https://t.co/PkiZVGwiNT-1\n",
      "Loved this little #cocktail earlslincoln it's the #beesknees  #gindrinker @makeitbetterns… https://t.co/iMUPZIBeLO1\n",
      "The hashtag #OSUvsMICH took the 8th place in the Top20 of Chicago's Trends for Saturday 28: https://t.co/FnmLH8MNnv #trndnl0\n",
      "Turn up your brightness @ Reggies https://t.co/2XdWxoGHpZ1\n",
      "RT @WifiAndPorn: This game was so 🔥🔥🔥 RT @BallUpNBA: #NeverForget https://t.co/PkiZVGwiNT-1\n",
      "RT @SneakerCon: #Chicago \"The Greatest Sneaker Show on Earth\" returns Dec 12th! - McCormick Place West - 12-7PM -… https://t.co/hKsG9ZgKKv1\n",
      "Badass yogis yogapolitik and freeziepop16 tagged me to #stopdropandyoga. Thanks for the tag and… https://t.co/Y9nM6o1PeM1\n",
      "RT @SneakerCon: #Chicago \"The Greatest Sneaker Show on Earth\" returns Dec 12th! - McCormick Place West - 12-7PM -… https://t.co/hKsG9ZgKKv1\n",
      "@NiallOfficial yes thank you for caring. How are you doing? Everything good? I love you soooo much #MTVStars One Direction1\n",
      "Repeat shot; 196 days later. #hancocktower #chicago #goldcoast #tourism #michiganavenue #chicagogram… https://t.co/COJmZmSoYB1\n",
      "RT @Renee_Olstead: Last intermission with my Sherlock Holmies!! @ Oriental Theatre https://t.co/If7orXTzSQ0\n",
      "All 36 of Kobe Bryant's game-winners in one 30-second supercut https://t.co/AIThmrmKBO1\n",
      "Baby believe me, and you had every chance. You destroyed everything that you know. @… https://t.co/NVjFFfoETv-1\n",
      "RT @SneakerCon: #Chicago \"The Greatest Sneaker Show on Earth\" returns Dec 12th! - McCormick Place West - 12-7PM -… https://t.co/hKsG9ZgKKv1\n",
      "holiday decor is popping up on every corner in chicago! 🎅🏻🎄🎁\n",
      "#tistheseason #happyholidays #nutcracker… https://t.co/K0aAl4EY2F1\n",
      "give thanks turkeys. 🦃\n",
      "#happythanksgiving @ Chicago, Illinois https://t.co/3uacdGo75x1\n",
      "#Starbucks at the #Park @ Millennium Park https://t.co/0AN8MSV5RT1\n",
      "#Chicago \"The Greatest Sneaker Show on Earth\" returns Dec 12th! - McCormick Place West - 12-7PM -… https://t.co/hKsG9ZgKKv1\n",
      "RT @fakeshoredrive: Tune into #TheDriveSXM TONIGHT on shade45 for 2 hours of the hottest music in the Midwest. New sets… https://t.co/WgX2I…1\n",
      "RT @fakeshoredrive: Tune into #TheDriveSXM TONIGHT on shade45 for 2 hours of the hottest music in the Midwest. New sets… https://t.co/WgX2I…1\n",
      "Having a fabulous dinner with @iamcameka.Celebrating her birthday! No business just fun!!!! #funtimes… https://t.co/rWvI00us0E1\n",
      "It's a celebration!!! It's @mztia1201 Birthday! @ Chicago, Illinois https://t.co/4C7CwR0nj91\n",
      "#djfreddybheavyhitter #watranightclub #50thbirthday the birthday lady getting her step on💃🏼 @ 47th &amp;… https://t.co/msnOB0Ulnd1\n",
      "Arizona State 60 Cal State Bakersfield 47 https://t.co/ZyFn4Eak9u #ncaaw0\n",
      "The word went fourth today.. #prayer #faith and #forgiveness .. Thank you pastorzeke #MARK11:25 @… https://t.co/ItCyzATs6k1\n",
      "RT @CB_Radio82: My favorite night is back! And it's gonna be goooood! 😏 By @roycedavoyce \"I'll see y'all TOMORROW… https://t.co/sPgonMBtZ41\n",
      "RT @CB_Radio82: My favorite night is back! And it's gonna be goooood! 😏 By @roycedavoyce \"I'll see y'all TOMORROW… https://t.co/sPgonMBtZ41\n",
      "Crew life. \n",
      "\n",
      "Ready to rock #chicago @ The Promontory https://t.co/NoxdeUkQ0U1\n",
      "Just posted a photo @ Millennium Park https://t.co/4RFJgKiYbB1\n",
      "#chipitstop #friends #pupsicles @ Chicago, Illinois https://t.co/qEbnBMRnmE0\n",
      "Holiday weekend is over @ Chicago, Illinois https://t.co/zGZ9e9WMcO-1\n",
      "Boston College 45 Santa Clara 62 https://t.co/yYgDlZG0A2 #ncaa0\n",
      "When we DJed at Fiesta Del Sol summer 2014 &amp; 2015 @hoschicago… https://t.co/8uex8ptHHD0\n",
      "The pits at the Chicago Board Options Exchange. @ CBOE | Chicago Board… https://t.co/k5LcSzM5MM0\n",
      "This game was so 🔥🔥🔥 RT @BallUpNBA: #NeverForget https://t.co/PkiZVGwiNT1\n",
      "Just posted a photo @ Chicago Riverwalk https://t.co/8HIUX0Fvwy0\n",
      "#42 waiting on this awesomeness! The birthday tour continues! @carmenrodgers zo3hree5ive @ The… https://t.co/Qmm5cucirQ1\n",
      "Chicago drankin - Drinking a Resurrected IPA by @4handsbrewery @ Division Ale House  — https://t.co/CZyKKOuZ6p0\n",
      "#42 waiting on this awesomeness! The birthday tour continues! @carmenrodgers zo3hree5ive @ The… https://t.co/JfHeanoE4W1\n",
      "Cal State Northridge 45 UCLA 77 https://t.co/tG1ypA1wQm #ncaa0\n",
      "Shots, shots, shots with beautiful_sasharose the_foyer @ Graffiti Chicago https://t.co/wSCMAGxJQ91\n",
      "RT @gregcorner: You wanted it, you got it. #Emo #PopPunk night at @beautybarchi TONIGHT. Come sing along to the music… https://t.co/r8OHP4n…1\n",
      "RT @Renee_Olstead: Last intermission with my Sherlock Holmies!! @ Oriental Theatre https://t.co/If7orXTzSQ0\n",
      "#dragon #Facepainting #boys #midwestfunfactory #theClassyClown #corporateentertainment… https://t.co/7E61M8iEjx0\n",
      "#birthdaytomorrow @ Jazz Showcase https://t.co/bwz9pZeZK51\n",
      "RT @WifiAndPorn: LMFAOOO RT @xxnncy: My boyfriend is such a bitch that sometime I wish he became gay and he would leave my ass-1\n",
      "Drinking a Jubelale (2015) by @deschutesbeer @ Division Ale House — https://t.co/dhaCjcmmao0\n",
      "RT @WifiAndPorn: LMFAOOO RT @xxnncy: My boyfriend is such a bitch that sometime I wish he became gay and he would leave my ass-1\n",
      "Just posted a photo @ Chicago Downtown https://t.co/dxQqA7z3qE0\n",
      "RT @WifiAndPorn: LMFAOOO RT @xxnncy: My boyfriend is such a bitch that sometime I wish he became gay and he would leave my ass-1\n",
      "RT @WifiAndPorn: LMFAOOO RT @xxnncy: My boyfriend is such a bitch that sometime I wish he became gay and he would leave my ass-1\n"
     ]
    }
   ],
   "source": [
    "# Dont Touch this method as this was used to manually label the first 500 tweets\n",
    "# this Function was for the purpose of helping to label tweets manually and store them in \"label+count\" file name \n",
    "# Dont Run it also ,as it would replace the existing labels file\n",
    "labels=[] \n",
    "def assign_labels_store(tweets,count): \n",
    "    label=[] \n",
    "    fl=open(\"labels \"+str(count), 'w+') \n",
    "    for i in range(1,count+1): \n",
    "        #print label \n",
    "        value=int(raw_input(tweets[i]['text'])) \n",
    "        label.append(value) \n",
    "    fl.write(str(label)) \n",
    "    fl.flush() \n",
    "    fl.close() \n",
    "    return label \n",
    "labels=assign_labels_store(myDicts,500)"
   ]
  },
  {
   "cell_type": "code",
   "execution_count": 8,
   "metadata": {
    "collapsed": false
   },
   "outputs": [
    {
     "name": "stdout",
     "output_type": "stream",
     "text": [
      "[ 1  1  1  1  1  0  1  1  1  0 -1 -1 -1  0 -1  0  0  1  1  0  1 -1  0  0 -1\n",
      " -1  1 -1  1  0  0  1 -1  0  1  0  0  1  0  1  0  0  1 -1 -1  0  1  1  1  0\n",
      "  1  0  1  1  0  1  0  1 -1  1  1  0  1  1  1  1  1  0  1 -1  0  1  0 -1 -1\n",
      "  1 -1  1  1  1  1 -1  0 -1 -1  1 -1  1  0 -1  1 -1  0  1 -1  0 -1 -1 -1 -1\n",
      " -1 -1 -1 -1 -1 -1  0 -1 -1  1 -1  1  0 -1 -1 -1 -1  1 -1 -1  0  1 -1 -1 -1\n",
      " -1 -1  1 -1 -1 -1 -1 -1 -1  0  0  0  0 -1 -1  1  1 -1 -1 -1  1 -1 -1 -1  1\n",
      " -1  0  1  1  1  1 -1  1 -1  0 -1 -1 -1 -1 -1  0 -1 -1 -1 -1  1 -1 -1  0 -1\n",
      "  1  1 -1 -1 -1 -1 -1 -1 -1 -1 -1 -1  1 -1 -1  0  1 -1 -1 -1  0  0  0  1  0\n",
      "  1 -1  0 -1  1 -1  1 -1 -1 -1  0  1  1 -1  0  1  1 -1 -1  0 -1 -1  1 -1  1\n",
      " -1  1  0  0 -1  1 -1  1  1 -1  0  0  1 -1  0 -1  1 -1  0 -1  0  0  0 -1  1\n",
      " -1 -1 -1  1 -1 -1  1  1 -1  0  0  1 -1  1 -1 -1  1 -1  0 -1  1 -1 -1  0 -1\n",
      " -1 -1 -1  0 -1  0 -1  1  1  1 -1 -1  1 -1  1  0 -1 -1  1  1 -1  1 -1  1 -1\n",
      " -1  0 -1  1 -1 -1  0  1 -1  1 -1 -1  1 -1 -1  1 -1  0  0  1 -1 -1  0 -1 -1\n",
      " -1 -1  0 -1  1 -1  0  0 -1 -1  1 -1  1  1 -1  1 -1 -1  1 -1 -1  0 -1 -1  1\n",
      "  0 -1 -1 -1 -1  1 -1 -1  0  1 -1  1  1  0  1  1  0  1 -1  1  1 -1  1  1  1\n",
      "  0  1  1  0  0 -1  0  0 -1  1  1  1  0  0  0  0  0  1  0  0  0  0  0 -1  1\n",
      "  0  0  1  0  1 -1  1  0  1  0  1  1  1  0  1  1 -1 -1 -1 -1 -1  1 -1 -1  1\n",
      "  0  1  0  0  0  0  1  0  0  0  1  1  0 -1  1  0  1  1  0  0  0  0  0  0 -1\n",
      "  1  0  1 -1  1  1  1  1  1  0  1 -1  1  1  1  1  1  1  1  1  1  1  0  1  1\n",
      "  1  1  1  0 -1  0  0  0  1  0  1  0  1  0  1  1  0  0  1 -1  0 -1  0 -1 -1]\n"
     ]
    }
   ],
   "source": [
    "#print labels\n",
    "def read_labels_from_file(filename):\n",
    "    inputFile = open(filename, \"r\")\n",
    "    lines = inputFile.readlines()\n",
    "    objects = []\n",
    "    for line in lines:\n",
    "        #print line\n",
    "        objects.append( (line) )\n",
    "    mylist=eval(objects[0])\n",
    "    return np.array(mylist)\n",
    "mlabels=read_labels_from_file(\"labels 500\")\n",
    "print mlabels"
   ]
  },
  {
   "cell_type": "markdown",
   "metadata": {},
   "source": [
    "This method reads the labels which were done manually and stores them in memory.\n",
    "I am using 3 classes to label the tweets\n",
    "\n",
    "1 - positive\n",
    "\n",
    "0 - Neutral\n",
    "\n",
    "-1 - Negative"
   ]
  },
  {
   "cell_type": "code",
   "execution_count": 9,
   "metadata": {
    "collapsed": false
   },
   "outputs": [
    {
     "name": "stdout",
     "output_type": "stream",
     "text": [
      "(175, 196, 129)\n"
     ]
    }
   ],
   "source": [
    "def pos_neg_neutral_count(labels):\n",
    "    pos=0\n",
    "    neg=0\n",
    "    neu=0\n",
    "    for l in labels:\n",
    "        if l==1:\n",
    "            pos+=1\n",
    "        elif l==-1:\n",
    "            neg+=1\n",
    "        else:\n",
    "            neu+=1\n",
    "    return pos,neg,neu\n",
    "\n",
    "print pos_neg_neutral_count(mlabels)"
   ]
  },
  {
   "cell_type": "code",
   "execution_count": 10,
   "metadata": {
    "collapsed": false
   },
   "outputs": [
    {
     "name": "stdout",
     "output_type": "stream",
     "text": [
      "#framingupsears @ Mary Bartelme Park https://t.co/7UpYdLfUl4\n",
      "[u'framingupsears']\n",
      "[u'framingupsears', u'mary', u'bartelme', u'park', u'https', u't', u'co', u'7upydlful4']\n",
      "[u'#', u'framingupsears', u'@', u'mary', u'bartelme', u'park', u'https', u':', u'/', u'/', u't', u'.', u'co', u'/', u'7upydlful4']\n",
      "[u'#', u'framingupsears', u'@', u'mary', u'bartelme', u'park', u'https', u':', u'/', u'/', u't', u'.', u'co', u'/', u'7upydlful4']\n",
      "[u'#', u'framingupsears', u'@', u'mary', u'bartelme', u'park', u'https', u':', u'//t.co/7upydlful4']\n",
      "[u'#framingupsears', u'@', u'mary', u'bartelme', u'park', u'https://t.co/7upydlful4']\n"
     ]
    }
   ],
   "source": [
    "def tokenize(text):\n",
    "    tokens=[]\n",
    "    low=text.lower()\n",
    "    tokens=re.findall(r'\\w+', low)\n",
    "    return tokens\n",
    "\n",
    "def tokenize_with_punct(text):\n",
    "    temp=re.sub(r'[\\n\\r\\x85]',' ',text.lower())\n",
    "    #tokens=re.findall(r\"[\\w]+|[\\s]\",temp.lower())\n",
    "    #return tokens\n",
    "    return re.findall(r\"[\\w]+|[^\\s\\w]|\\x85\", temp.lower())\n",
    "\n",
    "def tokenize_with_not(text):\n",
    "    tokens=tokenize_with_punct(text)\n",
    "    prefix=\"\"\n",
    "    count=0\n",
    "    for n,t in enumerate(tokens):\n",
    "        if t==\"not\":\n",
    "            prefix=\"not_\"\n",
    "            count=2\n",
    "        elif count>0:\n",
    "            tokens[n]=prefix+tokens[n]\n",
    "            count-=1\n",
    "        elif count==0:\n",
    "            prefix=\"\"\n",
    "    return tokens\n",
    "\n",
    "def nltk_tokenize(text):\n",
    "    return word_tokenize(text.lower())\n",
    "\n",
    "emoticons_str = r\"\"\"\n",
    "    (?:\n",
    "        [:=;] # Eyes\n",
    "        [oO\\-]? # Nose (optional)\n",
    "        [D\\)\\]\\(\\]/\\\\OpP] # Mouth\n",
    "    )\"\"\"\n",
    " \n",
    "regex_str = [\n",
    "    emoticons_str,\n",
    "    r'<[^>]+>', # HTML tags\n",
    "    r'(?:@[\\w_]+)', # @-mentions\n",
    "    r\"(?:\\#+[\\w_]+[\\w\\'_\\-]*[\\w_]+)\", # hash-tags\n",
    "    r'http[s]?://(?:[a-z]|[0-9]|[$-_@.&+]|[!*\\(\\),]|(?:%[0-9a-f][0-9a-f]))+', # URLs\n",
    " \n",
    "    r'(?:(?:\\d+,?)+(?:\\.?\\d+)?)', # numbers\n",
    "    r\"(?:[a-z][a-z'\\-_]+[a-z])\", # words with - and '\n",
    "    r'(?:[\\w_]+)', # other words\n",
    "    r'(?:\\S)' # anything else\n",
    "]\n",
    "    \n",
    "tokens_re = re.compile(r'('+'|'.join(regex_str)+')', re.VERBOSE | re.IGNORECASE)\n",
    "emoticon_re = re.compile(r'^'+emoticons_str+'$', re.VERBOSE | re.IGNORECASE)\n",
    "\n",
    "def preprocess(text):\n",
    "    tokens=tokens_re.findall(text)\n",
    "    tokens = [token if emoticon_re.search(token) else token.lower() for token in tokens]\n",
    "    return tokens\n",
    "\n",
    "\n",
    "for tweet in myDicts:\n",
    "    print tweet['text']\n",
    "    print tweet['hashtags']\n",
    "    print tokenize(tweet['text'])\n",
    "    print tokenize_with_punct(tweet['text'])\n",
    "    print tokenize_with_not(tweet['text'])\n",
    "    print nltk_tokenize(tweet['text'])\n",
    "    print preprocess(tweet['text'])\n",
    "    break"
   ]
  },
  {
   "cell_type": "code",
   "execution_count": 11,
   "metadata": {
    "collapsed": false
   },
   "outputs": [
    {
     "name": "stdout",
     "output_type": "stream",
     "text": [
      "read 2462 AFINN terms.\n",
      "E.g.: [('limited', -1), ('suicidal', -2), ('pardon', 2), ('desirable', 2), ('protest', -2), ('lurking', -1), ('controversial', -2), ('hating', -3), ('ridiculous', -3), ('hate', -3)]\n"
     ]
    }
   ],
   "source": [
    "url = urlopen('http://www2.compute.dtu.dk/~faan/data/AFINN.zip')\n",
    "zipfile = ZipFile(StringIO(url.read()))\n",
    "afinn_file = zipfile.open('AFINN/AFINN-111.txt')\n",
    "\n",
    "afinn = dict()\n",
    "\n",
    "for line in afinn_file:\n",
    "    parts = line.strip().split()\n",
    "    if len(parts) == 2:\n",
    "        afinn[parts[0]] = int(parts[1])\n",
    "\n",
    "print 'read', len(afinn), 'AFINN terms.\\nE.g.:', afinn.items()[:10]"
   ]
  },
  {
   "cell_type": "code",
   "execution_count": 12,
   "metadata": {
    "collapsed": true
   },
   "outputs": [],
   "source": [
    "def afinn_sentiment(terms, afinn):\n",
    "    total = 0.\n",
    "    for t in terms:\n",
    "        if t in afinn:\n",
    "            print '\\t%s=%d' % (t, afinn[t])\n",
    "            total += afinn[t]\n",
    "    return total\n"
   ]
  },
  {
   "cell_type": "code",
   "execution_count": 13,
   "metadata": {
    "collapsed": false
   },
   "outputs": [
    {
     "name": "stdout",
     "output_type": "stream",
     "text": [
      "RT @am_in_america: #Chicago. Love this city ❤️🎉😍🙌🏽🍷🍷🍷🍷. View taken from a lovely little #yogi rooftop . Missing my #ytt… https://t.co/fnfb4…\n",
      "AFINN:\n",
      "\tlove=3\n",
      "\tlovely=3\n",
      "\tmissing=-2\n",
      "4.0\n"
     ]
    }
   ],
   "source": [
    "tokens=tokenize(myDicts[5]['text'])\n",
    "print myDicts[5]['text']\n",
    "print 'AFINN:\\n', afinn_sentiment(tokens, afinn)"
   ]
  },
  {
   "cell_type": "code",
   "execution_count": 14,
   "metadata": {
    "collapsed": false
   },
   "outputs": [
    {
     "name": "stdout",
     "output_type": "stream",
     "text": [
      "<happy.a.01: PosScore=0.875 NegScore=0.0>\n"
     ]
    }
   ],
   "source": [
    "from nltk.corpus import sentiwordnet as swn\n",
    "# Depends on nltk (pip install nltk)\n",
    "# See http://www.nltk.org/data.html\n",
    "happy = swn.senti_synsets('happy', 'a')[0]\n",
    "print happy\n"
   ]
  },
  {
   "cell_type": "code",
   "execution_count": 15,
   "metadata": {
    "collapsed": false
   },
   "outputs": [
    {
     "name": "stdout",
     "output_type": "stream",
     "text": [
      "0.875\n"
     ]
    }
   ],
   "source": [
    "happy=swn.senti_synsets('happy', 'a')[0]\n",
    "type(happy)\n",
    "print happy.pos_score()"
   ]
  },
  {
   "cell_type": "code",
   "execution_count": 16,
   "metadata": {
    "collapsed": false
   },
   "outputs": [
    {
     "name": "stdout",
     "output_type": "stream",
     "text": [
      "RT @am_in_america: #Chicago. Love this city ❤️🎉😍🙌🏽🍷🍷🍷🍷. View taken from a lovely little #yogi rooftop . Missing my #ytt… https://t.co/fnfb4…\n",
      "(0.875, 0.5) [u'rt', u'am_in_america', u'chicago', u'love', u'this', u'city', u'view', u'taken', u'from', u'a', u'lovely', u'little', u'yogi', u'rooftop', u'missing', u'my', u'ytt', u'https', u't', u'co', u'fnfb4']\n"
     ]
    }
   ],
   "source": [
    "def senti_score(terms):\n",
    "    pos = 0\n",
    "    neg = 0\n",
    "    for t in terms:\n",
    "        term=swn.senti_synsets(t)\n",
    "        #print term,t\n",
    "        if len(term):\n",
    "            pos+=term[0].pos_score()\n",
    "            neg+=term[0].neg_score()\n",
    "        #print pos,neg,t\n",
    "    return pos, neg\n",
    "\n",
    "print myDicts[5]['text']\n",
    "print senti_score(tokens),tokens"
   ]
  },
  {
   "cell_type": "code",
   "execution_count": 17,
   "metadata": {
    "collapsed": false
   },
   "outputs": [
    {
     "name": "stdout",
     "output_type": "stream",
     "text": [
      "No of Tweets 500\n",
      "(185, 125, 190)\n"
     ]
    }
   ],
   "source": [
    "def sentiword_classifier(tweets,tokenizer_fn=tokenize):\n",
    "    y=[]\n",
    "    for t in tweets:\n",
    "        tokens=tokenizer_fn(t['text'])\n",
    "        pos,neg=senti_score(tokens)\n",
    "        if (pos>neg):\n",
    "            y.append(1)\n",
    "        elif pos<neg:\n",
    "            y.append(-1)\n",
    "        else :\n",
    "            y.append(0)\n",
    "    return np.array(y)\n",
    "\n",
    "senti_labels=sentiword_classifier(myDicts[:500])\n",
    "#print y\n",
    "print \"No of Tweets\",len(senti_labels)\n",
    "print pos_neg_neutral_count(senti_labels)"
   ]
  },
  {
   "cell_type": "markdown",
   "metadata": {},
   "source": [
    "This method uses the SentiWordNet to classify the tweets and assign labels to them"
   ]
  },
  {
   "cell_type": "code",
   "execution_count": 18,
   "metadata": {
    "collapsed": false
   },
   "outputs": [
    {
     "name": "stdout",
     "output_type": "stream",
     "text": [
      "The senti_labels had an accuracy of 0.356 when compared to the manually labelled tweets\n"
     ]
    }
   ],
   "source": [
    "# comparison between the manually labelled tweets and the sentiwordnet labelled tweets(500 tweets)\n",
    "acc = accuracy_score(mlabels,senti_labels)\n",
    "print \"The senti_labels had an accuracy of\",acc,\"when compared to the manually labelled tweets\""
   ]
  },
  {
   "cell_type": "code",
   "execution_count": 19,
   "metadata": {
    "collapsed": false
   },
   "outputs": [
    {
     "name": "stdout",
     "output_type": "stream",
     "text": [
      "Format of tweet stored in file and retrieved {'text': u'RT @am_in_america: #Chicago. Love this city \\u2764\\ufe0f\\U0001f389\\U0001f60d\\U0001f64c\\U0001f3fd\\U0001f377\\U0001f377\\U0001f377\\U0001f377. View taken from a lovely little #yogi rooftop . Missing my #ytt\\u2026 https://t.co/fnfb4\\u2026', 'hashtags': [u'Chicago', u'yogi', u'ytt'], 'id': 671200182604718080L, 'urls': [u'https://t.co/fnfb4sdsnG'], 'mentions': [u'am_in_america']}\n"
     ]
    }
   ],
   "source": [
    "print \"Format of tweet stored in file and retrieved\",myDicts[5]"
   ]
  },
  {
   "cell_type": "code",
   "execution_count": 20,
   "metadata": {
    "collapsed": false
   },
   "outputs": [
    {
     "name": "stdout",
     "output_type": "stream",
     "text": [
      "vectorized 500 tweets. found 1857 terms.\n"
     ]
    }
   ],
   "source": [
    "# do the vectorize on the 500 tweets which we manually classified\n",
    "\n",
    "def do_vectorize(tweets, tokenizer_fn=tokenize, min_df=1,\n",
    "                 max_df=1., binary=True, ngram_range=(1,1)):\n",
    "    \n",
    "    cvt=CountVectorizer(input='string',tokenizer=tokenizer_fn, ngram_range=ngram_range, max_df=max_df, \n",
    "                        min_df=min_df, binary=binary,dtype=int)\n",
    "    '''CountVectorizer(input='content', encoding='utf-8', decode_error='strict', \n",
    "                    strip_accents=None, lowercase=True, preprocessor=None, tokenizer=None, stop_words=None, \n",
    "                    token_pattern='(?u)\\b\\w\\w+\\b', ngram_range=(1, 1), analyzer='word', max_df=1.0, min_df=1, \n",
    "                    max_features=None, vocabulary=None, binary=False, dtype=<class 'numpy.int64'>)'''\n",
    "    vec=cvt.fit_transform(t['text'] for t in tweets)\n",
    "    return (vec,cvt)\n",
    "    \n",
    "matrix, vec = do_vectorize(myDicts[:500])\n",
    "#print matrix\n",
    "print 'vectorized %d tweets. found %d terms.' % (matrix.shape[0], matrix.shape[1])"
   ]
  },
  {
   "cell_type": "code",
   "execution_count": 21,
   "metadata": {
    "collapsed": false
   },
   "outputs": [
    {
     "name": "stdout",
     "output_type": "stream",
     "text": [
      "fold 0 accuracy=0.2800\n",
      "fold 1 accuracy=0.4000\n",
      "fold 2 accuracy=0.2800\n",
      "fold 3 accuracy=0.3800\n",
      "fold 4 accuracy=0.3000\n",
      "average cross validation accuracy=0.3280\n"
     ]
    }
   ],
   "source": [
    "def get_clf():\n",
    "    return LogisticRegression(random_state=42)\n",
    "\n",
    "def do_cross_validation(X, y, n_folds=5, verbose=False):\n",
    "    cv = KFold(len(y), n_folds)\n",
    "    accuracies = []\n",
    "    index=0\n",
    "    for train_idx, test_idx in cv:\n",
    "        #print train_idx, test_idx\n",
    "        clf = get_clf()\n",
    "        clf.fit(X[train_idx], y[train_idx])\n",
    "        predicted = clf.predict(X[test_idx])\n",
    "        acc = accuracy_score(y[test_idx], predicted)\n",
    "        accuracies.append(acc)\n",
    "        if verbose==True:\n",
    "            print \"fold\",index,\"accuracy=%.4f\"%acc\n",
    "        index+=1\n",
    "    avg = np.mean(accuracies)\n",
    "    return avg\n",
    "    \n",
    "print('average cross validation accuracy=%.4f' % do_cross_validation(matrix , mlabels , verbose=True))"
   ]
  },
  {
   "cell_type": "markdown",
   "metadata": {},
   "source": [
    "My manually labelled data gave a poor average accuracy of 32%. This is due to the nature of the tweets \n",
    "and the inability of the classfier to understand sarcasm and pseudonyms of the English language which is difficult to quantify. Also this brings in the concept of human error also, as I am the one labelling the tweets and assigning values and the labels will be morally biased towards my view of tweets (Example a tweet which i will give a negative label, can be given a neutral or even positive label by another person). In order to get a more globalised view we would need to build a much much more complex Classifier or machine learning algorithm. This leads us to use some other way of labelling the tokens such as the SentiWordNet method."
   ]
  },
  {
   "cell_type": "code",
   "execution_count": 22,
   "metadata": {
    "collapsed": false
   },
   "outputs": [
    {
     "name": "stdout",
     "output_type": "stream",
     "text": [
      "fold 0 accuracy=0.6500\n",
      "fold 1 accuracy=0.7800\n",
      "fold 2 accuracy=0.8500\n",
      "fold 3 accuracy=0.7400\n",
      "fold 4 accuracy=0.6200\n",
      "average cross validation accuracy=0.7280\n"
     ]
    }
   ],
   "source": [
    "print('average cross validation accuracy=%.4f' % do_cross_validation(matrix, senti_labels, verbose=True))"
   ]
  },
  {
   "cell_type": "markdown",
   "metadata": {},
   "source": [
    "On the other hand the sentiword which gives labels based on preassigned positive and negative token values does better with an average accuracy of 72%. This gives us a better way to labelling the tweets. It also has the advantage of a globally symantic view due to its predefined nature. The clash of the different human views is also avoided. Also I can use the function to label and train on more data rather than just 500 tweets and this will increase the accuracy even more."
   ]
  },
  {
   "cell_type": "code",
   "execution_count": 23,
   "metadata": {
    "collapsed": false
   },
   "outputs": [
    {
     "name": "stdout",
     "output_type": "stream",
     "text": [
      "This gives the accuracy of classifier by training and testing on same set. This is using Manual labels\n",
      "accuracy on training data=0.884\n"
     ]
    }
   ],
   "source": [
    "model = LogisticRegression()\n",
    "model.fit(matrix,np.array(mlabels))\n",
    "\n",
    "def accuracy(truth, predicted):\n",
    "    return (1. * len([1 for tr, pr in zip(truth, predicted) if tr == pr]) / len(truth))\n",
    "\n",
    "predicted = model.predict(matrix)\n",
    "print \"This gives the accuracy of classifier by training and testing on same set. This is using Manual labels\"\n",
    "print 'accuracy on training data=%.3f' % accuracy(np.array(mlabels), predicted)"
   ]
  },
  {
   "cell_type": "code",
   "execution_count": 24,
   "metadata": {
    "collapsed": false
   },
   "outputs": [
    {
     "name": "stdout",
     "output_type": "stream",
     "text": [
      "This gives the accuracy of classifier by training and testing on same set. This is using SentiWordNet labels\n",
      "accuracy on training data=0.996\n"
     ]
    }
   ],
   "source": [
    "model = LogisticRegression()\n",
    "model.fit(matrix,senti_labels)\n",
    "\n",
    "def accuracy(truth, predicted):\n",
    "    return (1. * len([1 for tr, pr in zip(truth, predicted) if tr == pr]) / len(truth))\n",
    "\n",
    "predicted = model.predict(matrix)\n",
    "print \"This gives the accuracy of classifier by training and testing on same set. This is using SentiWordNet labels\"\n",
    "print 'accuracy on training data=%.3f' % accuracy(senti_labels, predicted)"
   ]
  },
  {
   "cell_type": "code",
   "execution_count": 25,
   "metadata": {
    "collapsed": false
   },
   "outputs": [
    {
     "name": "stdout",
     "output_type": "stream",
     "text": [
      "[0.28, 0.4, 0.28, 0.38, 0.3]\n",
      "Average 5-fold cross validation accuracy=0.33 (std=0.05)\n"
     ]
    }
   ],
   "source": [
    "cv = KFold(len(mlabels), 5)\n",
    "accuracies = []\n",
    "for train_ind, test_ind in cv:\n",
    "    #print 1\n",
    "    #print train_ind,test_ind\n",
    "    #print type(train_ind)\n",
    "    #print train_ind[0]\n",
    "    #print train_ind\n",
    "    model.fit(matrix[train_ind], mlabels[train_ind])\n",
    "    predictions = model.predict(matrix[test_ind])\n",
    "    accuracies.append(accuracy(mlabels[test_ind], predictions))\n",
    "print accuracies\n",
    "print 'Average 5-fold cross validation accuracy=%.2f (std=%.2f)' % (np.mean(accuracies), np.std(accuracies))"
   ]
  },
  {
   "cell_type": "code",
   "execution_count": 26,
   "metadata": {
    "collapsed": false
   },
   "outputs": [
    {
     "name": "stdout",
     "output_type": "stream",
     "text": [
      "accuracy using default settings and manual labels: 0.328\n",
      "accuracy using default settings and senti lables: 0.728\n"
     ]
    }
   ],
   "source": [
    "def do_expt(filenames, y, tokenizer_fn=tokenize,\n",
    "            min_df=1, max_df=1., binary=True,\n",
    "            ngram_range=(1,1), n_folds=5):\n",
    "    matrix, vec = do_vectorize(filenames,tokenizer_fn=tokenizer_fn,min_df=min_df, max_df=max_df,\n",
    "                               binary=binary,ngram_range=ngram_range)\n",
    "    #X, y, filenames = repeatable_shuffle(matrix, y, all_train_files)\n",
    "    #print do_cross_validation(X, y,n_folds=n_folds)\n",
    "    return do_cross_validation(matrix, y,n_folds=n_folds)\n",
    "\n",
    "print('accuracy using default settings and manual labels: %.4g' % do_expt(myDicts[:500], np.array(mlabels)))\n",
    "print('accuracy using default settings and senti lables: %.4g' % do_expt(myDicts[:500], senti_labels))"
   ]
  },
  {
   "cell_type": "code",
   "execution_count": 27,
   "metadata": {
    "collapsed": false
   },
   "outputs": [
    {
     "name": "stdout",
     "output_type": "stream",
     "text": [
      "manual labels:\n"
     ]
    },
    {
     "data": {
      "image/png": "[encoded data removed]",
      "text/plain": [
       "<matplotlib.figure.Figure at 0xa6fb592c>"
      ]
     },
     "metadata": {},
     "output_type": "display_data"
    },
    {
     "name": "stdout",
     "output_type": "stream",
     "text": [
      "[0.32600000000000001, 0.32800000000000001, 0.34599999999999997, 0.34799999999999998]\n",
      "senti labels:\n"
     ]
    },
    {
     "data": {
      "image/png": "[encoded data removed]",
      "text/plain": [
       "<matplotlib.figure.Figure at 0xa6f2792c>"
      ]
     },
     "metadata": {},
     "output_type": "display_data"
    },
    {
     "name": "stdout",
     "output_type": "stream",
     "text": [
      "[0.69999999999999996, 0.72799999999999998, 0.73799999999999999, 0.75800000000000001]\n"
     ]
    }
   ],
   "source": [
    "def compare_n_folds(filenames, y):\n",
    "    \"\"\"\n",
    "    Vary the setting of n_folds parameter in the do_expt \n",
    "    function to be in [2,5,10,20]. For each setting, call do_expt and \n",
    "    store the resulting accuracy. Plot the accuracies for each setting.\n",
    "    Also return the list of accuracies. Use the default value for all\n",
    "    other arguments to the do_expt function.\n",
    "    Params:\n",
    "        filenames....list of training file names\n",
    "        y............true labels for each file (a numpy array)\n",
    "    Returns:\n",
    "        a list of average testing accuracies, one per fold.\n",
    "    \"\"\"\n",
    "    ###TODO\n",
    "    ###\n",
    "    n_folds=[2,5,10,20]\n",
    "    accuracies = []\n",
    "    for nf in n_folds:\n",
    "        accuracies.append(do_expt(filenames, y,n_folds=nf))\n",
    "    plt.figure()\n",
    "    plt.plot(n_folds,accuracies, 'bo-')\n",
    "    plt.xlabel('n_folds')\n",
    "    plt.ylabel('accuracy')\n",
    "    plt.show()\n",
    "    return accuracies\n",
    "print \"manual labels:\"\n",
    "print compare_n_folds(myDicts[:500], mlabels)\n",
    "print \"senti labels:\"\n",
    "print compare_n_folds(myDicts[:500], senti_labels)"
   ]
  },
  {
   "cell_type": "code",
   "execution_count": 28,
   "metadata": {
    "collapsed": false
   },
   "outputs": [
    {
     "name": "stdout",
     "output_type": "stream",
     "text": [
      "manual labels:\n",
      "[0.32800000000000001, 0.308]\n",
      "senti labels:\n",
      "[0.72799999999999998, 0.72199999999999998]\n"
     ]
    }
   ],
   "source": [
    "def compare_binary(filenames, y):\n",
    "    \"\"\"\n",
    "    How does the binary parameter affect results? \n",
    "    Call do_expt twice, once with binary=True, and once with binary=False.\n",
    "    Return the average accuracies for each. Use the default parameters for the\n",
    "    remaining arguments in do_expt.\n",
    "    Params:\n",
    "        filenames....list of training file names\n",
    "        y............true labels for each file (a numpy array)\n",
    "    Returns:\n",
    "        a list of average testing accuracies. The first entry\n",
    "        is for binary=True, the second is for binary=False.\n",
    "    \"\"\"\n",
    "    ###TODO\n",
    "    ###\n",
    "    return [do_expt(filenames,y,binary=b) for b in [True, False]]\n",
    "print \"manual labels:\"\n",
    "print compare_binary(myDicts[:500], mlabels)\n",
    "print \"senti labels:\"\n",
    "print compare_binary(myDicts[:500], senti_labels)"
   ]
  },
  {
   "cell_type": "code",
   "execution_count": 29,
   "metadata": {
    "collapsed": false
   },
   "outputs": [
    {
     "name": "stdout",
     "output_type": "stream",
     "text": [
      "manual labels:\n",
      "[0.32800000000000001, 0.32800000000000001, 0.32800000000000001, 0.31, 0.33000000000000002]\n",
      "senti labels:\n",
      "[0.72799999999999998, 0.70999999999999996, 0.71199999999999997, 0.70999999999999996, 0.72799999999999998]\n"
     ]
    }
   ],
   "source": [
    "def tokenizer_expt(all_train_files, y):\n",
    "    \"\"\"\n",
    "    How does the tokenizer affect results? \n",
    "    Call do_expt three times, using three different tokenizers:\n",
    "    1- tokenize\n",
    "    2- tokenize_with_punct\n",
    "    3- tokenize_with_not\n",
    "    Return the average cross-validation accuracy for each approach,\n",
    "    in the above order. Use the default parameters for all other \n",
    "    arguments to do_expt.\n",
    "    Params:\n",
    "        filenames....list of training file names\n",
    "        y............true labels for each file (a numpy array)\n",
    "    Returns:\n",
    "        a list of average testing accuracies for each tokenizer.\n",
    "    \"\"\"\n",
    "    ###TODO\n",
    "    ###\n",
    "    l=[]\n",
    "    l.append(do_expt(all_train_files,y,tokenizer_fn=tokenize))\n",
    "    l.append(do_expt(all_train_files,y,tokenizer_fn=tokenize_with_punct))\n",
    "    l.append(do_expt(all_train_files,y,tokenizer_fn=tokenize_with_not))\n",
    "    l.append(do_expt(all_train_files,y,tokenizer_fn=nltk_tokenize))\n",
    "    l.append(do_expt(all_train_files,y,tokenizer_fn=preprocess))\n",
    "    return l\n",
    "print \"manual labels:\"\n",
    "print tokenizer_expt(myDicts[:500], mlabels)\n",
    "print \"senti labels:\"\n",
    "print tokenizer_expt(myDicts[:500], senti_labels)"
   ]
  },
  {
   "cell_type": "code",
   "execution_count": 30,
   "metadata": {
    "collapsed": false
   },
   "outputs": [
    {
     "name": "stdout",
     "output_type": "stream",
     "text": [
      "manual labels:\n"
     ]
    },
    {
     "data": {
      "image/png": "[encoded data removed]",
      "text/plain": [
       "<matplotlib.figure.Figure at 0xa6e839ac>"
      ]
     },
     "metadata": {},
     "output_type": "display_data"
    },
    {
     "name": "stdout",
     "output_type": "stream",
     "text": [
      "[0.32800000000000001, 0.32199999999999995, 0.32599999999999996, 0.316, 0.32200000000000001, 0.30199999999999999, 0.314, 0.314, 0.312, 0.29799999999999999]\n",
      "senti labels:\n"
     ]
    },
    {
     "data": {
      "image/png": "[encoded data removed]",
      "text/plain": [
       "<matplotlib.figure.Figure at 0xa6ef2c0c>"
      ]
     },
     "metadata": {},
     "output_type": "display_data"
    },
    {
     "name": "stdout",
     "output_type": "stream",
     "text": [
      "[0.72799999999999998, 0.72199999999999998, 0.71199999999999997, 0.71399999999999997, 0.68399999999999994, 0.67799999999999994, 0.66200000000000003, 0.65999999999999992, 0.65600000000000003, 0.65800000000000003]\n"
     ]
    }
   ],
   "source": [
    "def min_df_expt(filenames, y):\n",
    "    \"\"\"\n",
    "    Vary the setting of min_df parameter in the do_expt \n",
    "    function to be ints in the range (1,10) (inclusive). For each setting,\n",
    "    call do_expt and store the resulting accuracy. Plot the accuracies for each setting.\n",
    "    Also return the list of accuracies. Use the default value for all\n",
    "    other arguments to the do_expt function, except that the toke,nizer\n",
    "    should be tokenize_with_not.\n",
    "    Params:\n",
    "        filenames....list of training file names\n",
    "        y............true labels for each file (a numpy array)\n",
    "    Returns:\n",
    "        a list of average testing accuracies, one per min_df value.\n",
    "    \"\"\"\n",
    "    ###TODO\n",
    "    ###\n",
    "    accuracies = []\n",
    "    for i in range(1,11):\n",
    "        accuracies.append(do_expt(filenames, y,tokenizer_fn=tokenize,min_df=i))\n",
    "    plt.figure()\n",
    "    plt.plot(range(1,11),accuracies, 'bo-')\n",
    "    plt.xlabel('min_df')\n",
    "    plt.ylabel('accuracy')\n",
    "    plt.show()\n",
    "    return accuracies\n",
    "print \"manual labels:\"\n",
    "print min_df_expt(myDicts[:500], mlabels)\n",
    "print \"senti labels:\"\n",
    "print min_df_expt(myDicts[:500], senti_labels)"
   ]
  },
  {
   "cell_type": "code",
   "execution_count": 31,
   "metadata": {
    "collapsed": false
   },
   "outputs": [
    {
     "name": "stdout",
     "output_type": "stream",
     "text": [
      "manual labels:\n"
     ]
    },
    {
     "data": {
      "image/png": "[encoded data removed]",
      "text/plain": [
       "<matplotlib.figure.Figure at 0xa6c3460c>"
      ]
     },
     "metadata": {},
     "output_type": "display_data"
    },
    {
     "name": "stdout",
     "output_type": "stream",
     "text": [
      "[0.318, 0.308, 0.30599999999999999, 0.32000000000000001, 0.31799999999999995, 0.31799999999999995, 0.32199999999999995, 0.32199999999999995, 0.32199999999999995, 0.32199999999999995]\n",
      "senti labels:\n"
     ]
    },
    {
     "data": {
      "image/png": "[encoded data removed]",
      "text/plain": [
       "<matplotlib.figure.Figure at 0xa6c2228c>"
      ]
     },
     "metadata": {},
     "output_type": "display_data"
    },
    {
     "name": "stdout",
     "output_type": "stream",
     "text": [
      "[0.68799999999999994, 0.71599999999999997, 0.71799999999999997, 0.71599999999999997, 0.72199999999999998, 0.72199999999999998, 0.72199999999999998, 0.72199999999999998, 0.72199999999999998, 0.72199999999999998]\n"
     ]
    }
   ],
   "source": [
    "def max_df_expt(filenames, y):\n",
    "    \"\"\"\n",
    "    Vary the setting of max_df parameter in the do_expt \n",
    "    function to be one of [.1, .2, .3, .4, .5, .6, .7, .8, .9, 1.].\n",
    "    For each setting, call do_expt and store the resulting accuracy.\n",
    "    Plot the accuracies for each setting. Also return the list of accuracies.\n",
    "    Use the default value for all other arguments to the do_expt function,\n",
    "    except that the tokenizer=tokenize_with_not and min_df=2.\n",
    "    Params:\n",
    "        filenames....list of training file names\n",
    "        y............true labels for each file (a numpy array)\n",
    "    Returns:\n",
    "        a list of average testing accuracies, one per max_df value.\n",
    "    \"\"\"\n",
    "    ###TODO\n",
    "    ###\n",
    "    maxs=[.1, .2, .3, .4, .5, .6, .7, .8, .9, 1.]\n",
    "    accuracies = []\n",
    "    for i in maxs:\n",
    "        accuracies.append(do_expt(filenames, y,tokenizer_fn=tokenize,max_df=i,min_df=2))\n",
    "    plt.figure()\n",
    "    plt.plot(maxs,accuracies, 'bo-')\n",
    "    plt.xlabel('max_df')\n",
    "    plt.ylabel('accuracy')\n",
    "    plt.show()\n",
    "    return accuracies\n",
    "print \"manual labels:\"\n",
    "print max_df_expt(myDicts[:500], mlabels)\n",
    "print \"senti labels:\"\n",
    "print max_df_expt(myDicts[:500], senti_labels)"
   ]
  },
  {
   "cell_type": "markdown",
   "metadata": {},
   "source": [
    "As of the above experiments we can conclude that the optimal setting for the vectorizer function are\n",
    "1) n_fold = 5 or above\n",
    "2) binary = True\n",
    "3) tokenizer function = tokenize\n",
    "4) min_dt = 2\n",
    "5) max_dt = 0.5\n",
    "\n",
    "Preprocess also does pretty well but when training on large amount of data,there was a drop in accuracy. I havent included the data. But that is why i decided to use tokenize function itself.\n",
    "\n",
    "As discussed above we will be using the sentiwordnet to classify the 22k tweets."
   ]
  },
  {
   "cell_type": "code",
   "execution_count": 32,
   "metadata": {
    "collapsed": false
   },
   "outputs": [
    {
     "name": "stdout",
     "output_type": "stream",
     "text": [
      "read 21422\n",
      "21422 tweets were read\n"
     ]
    }
   ],
   "source": [
    "#READ ALL THE TWEETS WHICH IS FOR ONE WEEK\n",
    "dataset=readtweets(1,filecount+1)\n",
    "data_y=sentiword_classifier(dataset)\n",
    "print len(dataset),\"tweets were read\""
   ]
  },
  {
   "cell_type": "code",
   "execution_count": 33,
   "metadata": {
    "collapsed": false
   },
   "outputs": [
    {
     "name": "stdout",
     "output_type": "stream",
     "text": [
      "accuracy using optimal settings: 0.8599 with 5 folds\n",
      "accuracy using optimal settings: 0.8335 with 2 folds\n"
     ]
    }
   ],
   "source": [
    "print('accuracy using optimal settings: %.4g with 5 folds' % do_expt(dataset, data_y,tokenizer_fn=tokenize,\n",
    "                                                        min_df=2, max_df=0.5, binary=True,\n",
    "                                                        ngram_range=(1,1), n_folds=5))\n",
    "print('accuracy using optimal settings: %.4g with 2 folds' % do_expt(dataset, data_y,tokenizer_fn=tokenize,\n",
    "                                                        min_df=2, max_df=0.5, binary=True,\n",
    "                                                        ngram_range=(1,1), n_folds=2))"
   ]
  },
  {
   "cell_type": "code",
   "execution_count": 34,
   "metadata": {
    "collapsed": false
   },
   "outputs": [
    {
     "name": "stdout",
     "output_type": "stream",
     "text": [
      "vectorized 21422 tweets. found 11442 terms.\n"
     ]
    }
   ],
   "source": [
    "datamatrix, vec = do_vectorize(dataset,tokenizer_fn=tokenize,min_df=2, max_df=0.5,\n",
    "                               binary=True)\n",
    "print 'vectorized %d tweets. found %d terms.' % (datamatrix.shape[0], datamatrix.shape[1])\n",
    "voc=np.array(vec.get_feature_names())\n",
    "def document_frequencies(movie_term_matrix):\n",
    "    \n",
    "    df = np.zeros(len(voc))\n",
    "    #print np.array_str(df)\n",
    "    rows,cols = movie_term_matrix.nonzero()\n",
    "    for row,col in zip(rows,cols):\n",
    "        #print ((row,col), movie_term_matrix[row,col])\n",
    "        df[col]+=1\n",
    "    return [zip(range(0,len(df)),df)]\n",
    "countlist=document_frequencies(datamatrix)\n",
    "#print sorted(countlist, key=lambda t: t[1],reverse=TRUE)[:10]"
   ]
  },
  {
   "cell_type": "code",
   "execution_count": 35,
   "metadata": {
    "collapsed": false
   },
   "outputs": [
    {
     "name": "stdout",
     "output_type": "stream",
     "text": [
      "[(2172, 10220.0), (5181, 5147.0), (5229, 4990.0), (10111, 4979.0), (5565, 3846.0), (10323, 3334.0), (4899, 3313.0), (1073, 3250.0), (549, 3115.0), (4118, 2923.0)]\n"
     ]
    }
   ],
   "source": [
    "#print countlist\n",
    "toptrends=sorted(countlist[0], key=lambda t: t[1],reverse=True)[:10]\n",
    "print toptrends"
   ]
  },
  {
   "cell_type": "code",
   "execution_count": 36,
   "metadata": {
    "collapsed": false
   },
   "outputs": [
    {
     "name": "stdout",
     "output_type": "stream",
     "text": [
      "The Term chicago has count 10220.0\n",
      "The Term il has count 5147.0\n",
      "The Term in has count 4990.0\n",
      "The Term the has count 4979.0\n",
      "The Term job has count 3846.0\n",
      "The Term to has count 3334.0\n",
      "The Term hiring has count 3313.0\n",
      "The Term at has count 3250.0\n",
      "The Term a has count 3115.0\n",
      "The Term for has count 2923.0\n"
     ]
    }
   ],
   "source": [
    "for t in toptrends:\n",
    "    print \"The Term\",voc[t[0]],\"has count\",t[1]"
   ]
  },
  {
   "cell_type": "markdown",
   "metadata": {},
   "source": [
    "As can be seen from above,\n",
    "\n",
    "When i uses tokens from the tweet to determing the top trends in the 22k tweets it is giving out a lot of noise. And segregating through those will take manual work. Hence lets look at using the hashtags which we collected to determine the top trends."
   ]
  },
  {
   "cell_type": "code",
   "execution_count": 38,
   "metadata": {
    "collapsed": false
   },
   "outputs": [
    {
     "name": "stdout",
     "output_type": "stream",
     "text": [
      "[(u'chicago', 5032), (u'job', 3822), (u'hiring', 3331), (u'careerarc', 1747), (u'jobs', 1696), (u'ncaa', 531), (u'hospitality', 512), (u'ncaaw', 472), (u'veterans', 431), (u'it', 344), (u'sales', 340), (u'accounting', 267), (u'businessmgmt', 247), (u'retail', 234), (u'trndnl', 221), (u'thanksgiving', 205), (u'healthcare', 171), (u'laquanmcdonald', 164), (u'finance', 161), (u'nursing', 147)]\n"
     ]
    }
   ],
   "source": [
    "htags={}\n",
    "for ds in dataset:\n",
    "    hts=ds['hashtags']\n",
    "    for ht in hts:\n",
    "        if ht.lower() in htags.keys():\n",
    "            htags[ht.lower()]+=1\n",
    "        else:\n",
    "            htags[ht.lower()]=1\n",
    "#print htags\n",
    "sorted_hts = sorted(htags.items(), key=operator.itemgetter(1),reverse=True)\n",
    "print sorted_hts[:20]"
   ]
  },
  {
   "cell_type": "markdown",
   "metadata": {},
   "source": [
    "As can be seen above \n",
    "\n",
    "We have used hashtags of the tweets to determine the top trends. Here the data is much more clear and no noise. But still there are some like \"job\" and \"Job\". We removed those by using lower func.But it still doesnt eliminate tags like \"jobs\"."
   ]
  },
  {
   "cell_type": "code",
   "execution_count": 39,
   "metadata": {
    "collapsed": false
   },
   "outputs": [],
   "source": [
    "#htags={}\n",
    "def gettophashtags(data,top):\n",
    "    for ds in dataset:\n",
    "        hts=ds['hashtags']\n",
    "        for ht in hts:\n",
    "            if ht.lower() in htags.keys():\n",
    "                htags[ht.lower()]+=1\n",
    "            else:\n",
    "                htags[ht.lower()]=1\n",
    "    sorted_hts = sorted(htags.items(), key=operator.itemgetter(1),reverse=True)\n",
    "    return sorted_hts[:top]\n",
    "#tophashtags=gettophashtags(dataset,10)"
   ]
  },
  {
   "cell_type": "code",
   "execution_count": 40,
   "metadata": {
    "collapsed": false
   },
   "outputs": [
    {
     "name": "stdout",
     "output_type": "stream",
     "text": [
      "5028\n"
     ]
    }
   ],
   "source": [
    "# The indicies of the tweets containing the tag which has been inputed.\n",
    "#In this case we are using it to get the indicies of top hashtags.\n",
    "def indicies_top_htags(dataset,topht):\n",
    "    i=0\n",
    "    topdata=[]\n",
    "    for ds in dataset:\n",
    "        hts=ds['hashtags']\n",
    "        #print hts\n",
    "        for ht in hts:\n",
    "            #print hts\n",
    "            if topht==ht.lower():\n",
    "                if i not in topdata:\n",
    "                    topdata.append(i)\n",
    "        i+=1\n",
    "    return topdata\n",
    "\n",
    "indtop=indicies_top_htags(dataset,sorted_hts[0][0])\n",
    "print len(indtop)\n",
    "#print indtop"
   ]
  },
  {
   "cell_type": "code",
   "execution_count": 41,
   "metadata": {
    "collapsed": false
   },
   "outputs": [],
   "source": [
    "dataset[34]\n",
    "def index_of_term(vec, term):\n",
    "    \"\"\" This returns the column index corresponding to this term.\"\"\"\n",
    "    return vec.get_feature_names().index(term)\n",
    "\n"
   ]
  },
  {
   "cell_type": "code",
   "execution_count": 42,
   "metadata": {
    "collapsed": false
   },
   "outputs": [
    {
     "name": "stdout",
     "output_type": "stream",
     "text": [
      "21422\n",
      "vectorized 21422 tweets. found 11442 terms.\n",
      "amount of pos-neg-neutral lables is (1699, 1450, 1879)\n",
      "0.9592283214\n"
     ]
    }
   ],
   "source": [
    "print len(data_y)\n",
    "a=np.append([indtop[0]],indtop[1:])\n",
    "clf = get_clf()\n",
    "#clf.fit(matrix, data_y)\n",
    "\n",
    "train_matrix, vec = do_vectorize(dataset,tokenizer_fn=tokenize,min_df=2, max_df=0.5,binary=True)\n",
    "print 'vectorized %d tweets. found %d terms.' % (train_matrix.shape[0], train_matrix.shape[1])\n",
    "#train_y=sentiword_classifier(dataset)\n",
    "clf.fit(train_matrix, data_y)\n",
    "\n",
    "predicted = clf.predict(train_matrix[a])\n",
    "acc = accuracy_score(data_y[a], predicted)\n",
    "print \"amount of pos-neg-neutral lables is\",pos_neg_neutral_count(predicted)\n",
    "print acc"
   ]
  },
  {
   "cell_type": "markdown",
   "metadata": {},
   "source": [
    "Here we train on the entire 22 k tweets with senti_lables and then predict on the tweets containing the hashtag \"chicago\" and this gives us an accuracy of 95% which is good. Also the no of positive label is more than negative. Hence clearly there is a positive sentiment towards the Hash Tag \"chicago\" of the 5k tweets found."
   ]
  },
  {
   "cell_type": "code",
   "execution_count": 44,
   "metadata": {
    "collapsed": false
   },
   "outputs": [
    {
     "name": "stdout",
     "output_type": "stream",
     "text": [
      "top element chicago with count 5028 has accuracy=0.7365\n",
      "amount of pos-neg-neutral lables is (1738, 1186, 2104)\n",
      "top element job with count 3822 has accuracy=0.6688\n",
      "amount of pos-neg-neutral lables is (995, 877, 1950)\n",
      "top element hiring with count 3330 has accuracy=0.8423\n",
      "amount of pos-neg-neutral lables is (1025, 1044, 1261)\n",
      "top element careerarc with count 1747 has accuracy=0.9376\n",
      "amount of pos-neg-neutral lables is (571, 608, 568)\n",
      "top element jobs with count 1696 has accuracy=0.8267\n",
      "amount of pos-neg-neutral lables is (558, 305, 833)\n",
      "top element ncaa with count 531 has accuracy=0.9699\n",
      "amount of pos-neg-neutral lables is (23, 11, 497)\n",
      "top element hospitality with count 512 has accuracy=0.2305\n",
      "amount of pos-neg-neutral lables is (63, 170, 279)\n",
      "top element ncaaw with count 472 has accuracy=0.9470\n",
      "amount of pos-neg-neutral lables is (39, 21, 412)\n",
      "top element veterans with count 431 has accuracy=0.8747\n",
      "amount of pos-neg-neutral lables is (275, 99, 57)\n",
      "top element it with count 344 has accuracy=0.8721\n",
      "amount of pos-neg-neutral lables is (50, 131, 163)\n",
      "top element sales with count 339 has accuracy=0.9292\n",
      "amount of pos-neg-neutral lables is (66, 117, 156)\n",
      "top element accounting with count 267 has accuracy=0.9476\n",
      "amount of pos-neg-neutral lables is (18, 103, 146)\n",
      "top element businessmgmt with count 247 has accuracy=0.9352\n",
      "amount of pos-neg-neutral lables is (44, 94, 109)\n",
      "top element retail with count 234 has accuracy=0.9231\n",
      "amount of pos-neg-neutral lables is (52, 81, 101)\n",
      "top element trndnl with count 221 has accuracy=0.8597\n",
      "amount of pos-neg-neutral lables is (108, 8, 105)\n",
      "top element thanksgiving with count 205 has accuracy=0.8537\n",
      "amount of pos-neg-neutral lables is (101, 27, 77)\n",
      "top element healthcare with count 171 has accuracy=0.6550\n",
      "amount of pos-neg-neutral lables is (93, 65, 13)\n",
      "top element laquanmcdonald with count 164 has accuracy=0.8354\n",
      "amount of pos-neg-neutral lables is (40, 24, 100)\n",
      "top element finance with count 161 has accuracy=0.9130\n",
      "amount of pos-neg-neutral lables is (36, 60, 65)\n",
      "top element nursing with count 147 has accuracy=0.6803\n",
      "amount of pos-neg-neutral lables is (61, 63, 23)\n"
     ]
    },
    {
     "data": {
      "text/plain": [
       "0.82190589520515489"
      ]
     },
     "execution_count": 44,
     "metadata": {},
     "output_type": "execute_result"
    }
   ],
   "source": [
    "def do_expt_topHashtags(X,y,tophts,n,verbose=True):\n",
    "    accuracies=[]\n",
    "    index=0\n",
    "    for top in tophts[:n]:\n",
    "        indtop=indicies_top_htags(dataset,top[0])\n",
    "        #print top[0]\n",
    "        #print len(indtop)\n",
    "        a=np.append([indtop[0]],indtop[1:])\n",
    "        drange=range(len(dataset))\n",
    "        for x in indtop:\n",
    "            drange.remove(x)\n",
    "        #print drange\n",
    "        #print len(a)\n",
    "        b=np.append(drange[0],drange[1:])\n",
    "        clf = get_clf()\n",
    "        clf.fit(X[b], y[b])\n",
    "        predicted = clf.predict(X[a])\n",
    "        acc = accuracy_score(y[a], predicted)\n",
    "        accuracies.append(acc)\n",
    "        if verbose==True:\n",
    "            print \"top element\",top[0],\"with count\",len(indtop),\"has accuracy=%.4f\"%acc\n",
    "            print \"amount of pos-neg-neutral lables is\",pos_neg_neutral_count(predicted)\n",
    "        index+=1\n",
    "    avg = np.mean(accuracies)\n",
    "    #print accuracies\n",
    "    return avg\n",
    "do_expt_topHashtags(train_matrix,data_y,sorted_hts,20)"
   ]
  },
  {
   "cell_type": "markdown",
   "metadata": {},
   "source": [
    "Here we do an experiment on the top 20 trends based on hashtags. Here we train on the whole dataset without the tweets containing the top hashtag. Then we test on the dataset containing only the tweets having that hashtag.\n",
    "Thus we are able to predict the nature of trends which are new to twitter based on other data. This also gives us an average accuracy of 82%."
   ]
  },
  {
   "cell_type": "code",
   "execution_count": null,
   "metadata": {
    "collapsed": true
   },
   "outputs": [],
   "source": []
  }
 ],
 "metadata": {
  "kernelspec": {
   "display_name": "Python 2",
   "language": "python",
   "name": "python2"
  },
  "language_info": {
   "codemirror_mode": {
    "name": "ipython",
    "version": 2
   },
   "file_extension": ".py",
   "mimetype": "text/x-python",
   "name": "python",
   "nbconvert_exporter": "python",
   "pygments_lexer": "ipython2",
   "version": "2.7.10"
  }
 },
 "nbformat": 4,
 "nbformat_minor": 0
}
